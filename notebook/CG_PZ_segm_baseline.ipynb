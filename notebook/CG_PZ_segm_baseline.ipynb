{
 "cells": [
  {
   "cell_type": "markdown",
   "metadata": {},
   "source": [
    "# Prostate Zones Segmentation - Baseline w/o gland mask\n",
    "Train a model using the ProstateX data for training and test on the Prostate3T. This is an initial study."
   ]
  },
  {
   "cell_type": "code",
   "execution_count": 3,
   "metadata": {},
   "outputs": [
    {
     "name": "stdout",
     "output_type": "stream",
     "text": [
      "MONAI version: 0.6.0\n",
      "Numpy version: 1.19.2\n",
      "Pytorch version: 1.10.0+cu102\n",
      "MONAI flags: HAS_EXT = False, USE_COMPILED = False\n",
      "MONAI rev id: 0ad9e73639e30f4f1af5a1f4a45da9cb09930179\n",
      "\n",
      "Optional dependencies:\n",
      "Pytorch Ignite version: NOT INSTALLED or UNKNOWN VERSION.\n",
      "Nibabel version: 3.1.1\n",
      "scikit-image version: 0.17.2\n",
      "Pillow version: 8.1.0\n",
      "Tensorboard version: 2.2.0\n",
      "gdown version: NOT INSTALLED or UNKNOWN VERSION.\n",
      "TorchVision version: 0.8.2\n",
      "ITK version: NOT INSTALLED or UNKNOWN VERSION.\n",
      "tqdm version: 4.55.1\n",
      "lmdb version: NOT INSTALLED or UNKNOWN VERSION.\n",
      "psutil version: NOT INSTALLED or UNKNOWN VERSION.\n",
      "pandas version: 1.3.1\n",
      "einops version: NOT INSTALLED or UNKNOWN VERSION.\n",
      "\n",
      "For details about installing the optional dependencies, please visit:\n",
      "    https://docs.monai.io/en/latest/installation.html#installing-the-recommended-dependencies\n",
      "\n"
     ]
    }
   ],
   "source": [
    "import IPython\n",
    "import matplotlib.pyplot as plt\n",
    "import nibabel as nib\n",
    "import numpy as np\n",
    "import os\n",
    "import pandas as pd\n",
    "import pytorch_lightning\n",
    "import torch\n",
    "from torch.utils.data import DataLoader\n",
    "\n",
    "import monai\n",
    "from monai.transforms import \\\n",
    "    Compose, LoadImaged, AddChanneld, Orientationd, \\\n",
    "    NormalizeIntensityd, ScaleIntensityRangePercentilesd, \\\n",
    "    SpatialPadd, Spacingd, \\\n",
    "    RandRotated, \\\n",
    "    RandSpatialCropd, \\\n",
    "    RandFlipd, CropForegroundd, RandWeightedCropd, \\\n",
    "    LabelToMaskd, ScaleIntensityRanged, \\\n",
    "    CopyItemsd, DeleteItemsd, Lambdad, \\\n",
    "    RandCropByPosNegLabeld, ToTensord,  \\\n",
    "    DataStatsd, KeepLargestConnectedComponent, \\\n",
    "    AsDiscrete \n",
    "from monai.data import list_data_collate,decollate_batch\n",
    "from monai.networks.layers import Norm\n",
    "\n",
    "from monai.visualize import img2tensorboard\n",
    "from monai.utils import set_determinism\n",
    "from monai.inferers import sliding_window_inference\n",
    "\n",
    "monai.config.print_config()"
   ]
  },
  {
   "cell_type": "markdown",
   "metadata": {},
   "source": [
    "## Verify System Setup\n",
    "Check torch and CUDA on the system."
   ]
  },
  {
   "cell_type": "code",
   "execution_count": 4,
   "metadata": {},
   "outputs": [
    {
     "name": "stdout",
     "output_type": "stream",
     "text": [
      "CUDA available:  True\n",
      "GPU 0: Quadro RTX 8000\n",
      "GPU 1: Quadro RTX 8000\n",
      "GPU 2: Quadro RTX 8000\n"
     ]
    }
   ],
   "source": [
    "print('CUDA available: ', torch.cuda.is_available())\n",
    "\n",
    "n_gpus = torch.cuda.device_count()\n",
    "for i in range(n_gpus):\n",
    "    print('GPU %d: %s' % (i, torch.cuda.get_device_name(i)))\n"
   ]
  },
  {
   "cell_type": "markdown",
   "metadata": {},
   "source": [
    "## Set the project path"
   ]
  },
  {
   "cell_type": "code",
   "execution_count": 5,
   "metadata": {},
   "outputs": [
    {
     "name": "stdout",
     "output_type": "stream",
     "text": [
      "Using experiment directory: ../resources/model/baseline_ce\n"
     ]
    }
   ],
   "source": [
    "EXP_NAME = 'Baseline_CE'\n",
    "ROOT_PATH = r'../resources/model/'\n",
    "# ROOT_PATH = sys.path[0]\n",
    "EXP_PATH = os.path.join(ROOT_PATH,EXP_NAME.lower())\n",
    "\n",
    "# Create the study directory structure\n",
    "if not os.path.exists(EXP_PATH):\n",
    "    print('Creating experiment directory: {}'.format(EXP_PATH))\n",
    "    os.mkdir(EXP_PATH)\n",
    "\n",
    "print('Using experiment directory: {}'.format(EXP_PATH))\n"
   ]
  },
  {
   "cell_type": "markdown",
   "metadata": {},
   "source": [
    "## Load the Data"
   ]
  },
  {
   "cell_type": "code",
   "execution_count": 6,
   "metadata": {},
   "outputs": [
    {
     "name": "stdout",
     "output_type": "stream",
     "text": [
      "Dataset contains 98 entries\n"
     ]
    },
    {
     "data": {
      "text/html": [
       "<div>\n",
       "<style scoped>\n",
       "    .dataframe tbody tr th:only-of-type {\n",
       "        vertical-align: middle;\n",
       "    }\n",
       "\n",
       "    .dataframe tbody tr th {\n",
       "        vertical-align: top;\n",
       "    }\n",
       "\n",
       "    .dataframe thead th {\n",
       "        text-align: right;\n",
       "    }\n",
       "</style>\n",
       "<table border=\"1\" class=\"dataframe\">\n",
       "  <thead>\n",
       "    <tr style=\"text-align: right;\">\n",
       "      <th></th>\n",
       "      <th>SUBJECT_ID</th>\n",
       "      <th>VISIT_ID</th>\n",
       "      <th>IMAGE</th>\n",
       "      <th>SEGM</th>\n",
       "      <th>DATASET_ID</th>\n",
       "    </tr>\n",
       "  </thead>\n",
       "  <tbody>\n",
       "    <tr>\n",
       "      <th>5</th>\n",
       "      <td>4</td>\n",
       "      <td>0</td>\n",
       "      <td>/data16/public/prostate/data/public/from_tenso...</td>\n",
       "      <td>/data16/public/prostate/data/public/from_tenso...</td>\n",
       "      <td>ProstateX</td>\n",
       "    </tr>\n",
       "    <tr>\n",
       "      <th>8</th>\n",
       "      <td>7</td>\n",
       "      <td>0</td>\n",
       "      <td>/data16/public/prostate/data/public/from_tenso...</td>\n",
       "      <td>/data16/public/prostate/data/public/from_tenso...</td>\n",
       "      <td>ProstateX</td>\n",
       "    </tr>\n",
       "    <tr>\n",
       "      <th>10</th>\n",
       "      <td>9</td>\n",
       "      <td>0</td>\n",
       "      <td>/data16/public/prostate/data/public/from_tenso...</td>\n",
       "      <td>/data16/public/prostate/data/public/from_tenso...</td>\n",
       "      <td>ProstateX</td>\n",
       "    </tr>\n",
       "    <tr>\n",
       "      <th>15</th>\n",
       "      <td>12</td>\n",
       "      <td>0</td>\n",
       "      <td>/data16/public/prostate/data/public/from_tenso...</td>\n",
       "      <td>/data16/public/prostate/data/public/from_tenso...</td>\n",
       "      <td>ProstateX</td>\n",
       "    </tr>\n",
       "    <tr>\n",
       "      <th>18</th>\n",
       "      <td>15</td>\n",
       "      <td>0</td>\n",
       "      <td>/data16/public/prostate/data/public/from_tenso...</td>\n",
       "      <td>/data16/public/prostate/data/public/from_tenso...</td>\n",
       "      <td>ProstateX</td>\n",
       "    </tr>\n",
       "  </tbody>\n",
       "</table>\n",
       "</div>"
      ],
      "text/plain": [
       "    SUBJECT_ID  VISIT_ID                                              IMAGE  \\\n",
       "5            4         0  /data16/public/prostate/data/public/from_tenso...   \n",
       "8            7         0  /data16/public/prostate/data/public/from_tenso...   \n",
       "10           9         0  /data16/public/prostate/data/public/from_tenso...   \n",
       "15          12         0  /data16/public/prostate/data/public/from_tenso...   \n",
       "18          15         0  /data16/public/prostate/data/public/from_tenso...   \n",
       "\n",
       "                                                 SEGM DATASET_ID  \n",
       "5   /data16/public/prostate/data/public/from_tenso...  ProstateX  \n",
       "8   /data16/public/prostate/data/public/from_tenso...  ProstateX  \n",
       "10  /data16/public/prostate/data/public/from_tenso...  ProstateX  \n",
       "15  /data16/public/prostate/data/public/from_tenso...  ProstateX  \n",
       "18  /data16/public/prostate/data/public/from_tenso...  ProstateX  "
      ]
     },
     "execution_count": 6,
     "metadata": {},
     "output_type": "execute_result"
    }
   ],
   "source": [
    "PROSTATEX_PATH = r'../resources/data/ProstateX_data_index.csv'\n",
    "\n",
    "df = pd.read_csv(PROSTATEX_PATH, index_col=False)\n",
    "df = df.dropna(subset=['SEGM_PIRADS'])\n",
    "df.drop_duplicates(inplace=True)\n",
    "df = df.rename(columns={\n",
    "    'SEGM_PIRADS': 'SEGM',\n",
    "    'IMAGE': 'IMAGE'\n",
    "})\n",
    "\n",
    "print('Dataset contains %d entries' % len(df))\n",
    "df.head(5)"
   ]
  },
  {
   "cell_type": "code",
   "execution_count": 7,
   "metadata": {},
   "outputs": [
    {
     "name": "stdout",
     "output_type": "stream",
     "text": [
      "Dataset contains 30 entries\n"
     ]
    },
    {
     "data": {
      "text/html": [
       "<div>\n",
       "<style scoped>\n",
       "    .dataframe tbody tr th:only-of-type {\n",
       "        vertical-align: middle;\n",
       "    }\n",
       "\n",
       "    .dataframe tbody tr th {\n",
       "        vertical-align: top;\n",
       "    }\n",
       "\n",
       "    .dataframe thead th {\n",
       "        text-align: right;\n",
       "    }\n",
       "</style>\n",
       "<table border=\"1\" class=\"dataframe\">\n",
       "  <thead>\n",
       "    <tr style=\"text-align: right;\">\n",
       "      <th></th>\n",
       "      <th>SUBJECT_ID</th>\n",
       "      <th>IMAGE</th>\n",
       "      <th>SEGM</th>\n",
       "      <th>SEGM_PROSTATE</th>\n",
       "      <th>DATASET_ID</th>\n",
       "    </tr>\n",
       "  </thead>\n",
       "  <tbody>\n",
       "    <tr>\n",
       "      <th>0</th>\n",
       "      <td>1</td>\n",
       "      <td>/data16/public/prostate/data/public/TCIA/Prost...</td>\n",
       "      <td>/data16/public/prostate/data/public/TCIA/Prost...</td>\n",
       "      <td>/data16/public/prostate/data/public/TCIA/Prost...</td>\n",
       "      <td>Prostate3T</td>\n",
       "    </tr>\n",
       "    <tr>\n",
       "      <th>1</th>\n",
       "      <td>2</td>\n",
       "      <td>/data16/public/prostate/data/public/TCIA/Prost...</td>\n",
       "      <td>/data16/public/prostate/data/public/TCIA/Prost...</td>\n",
       "      <td>/data16/public/prostate/data/public/TCIA/Prost...</td>\n",
       "      <td>Prostate3T</td>\n",
       "    </tr>\n",
       "    <tr>\n",
       "      <th>2</th>\n",
       "      <td>3</td>\n",
       "      <td>/data16/public/prostate/data/public/TCIA/Prost...</td>\n",
       "      <td>/data16/public/prostate/data/public/TCIA/Prost...</td>\n",
       "      <td>/data16/public/prostate/data/public/TCIA/Prost...</td>\n",
       "      <td>Prostate3T</td>\n",
       "    </tr>\n",
       "    <tr>\n",
       "      <th>3</th>\n",
       "      <td>4</td>\n",
       "      <td>/data16/public/prostate/data/public/TCIA/Prost...</td>\n",
       "      <td>/data16/public/prostate/data/public/TCIA/Prost...</td>\n",
       "      <td>/data16/public/prostate/data/public/TCIA/Prost...</td>\n",
       "      <td>Prostate3T</td>\n",
       "    </tr>\n",
       "    <tr>\n",
       "      <th>4</th>\n",
       "      <td>5</td>\n",
       "      <td>/data16/public/prostate/data/public/TCIA/Prost...</td>\n",
       "      <td>/data16/public/prostate/data/public/TCIA/Prost...</td>\n",
       "      <td>/data16/public/prostate/data/public/TCIA/Prost...</td>\n",
       "      <td>Prostate3T</td>\n",
       "    </tr>\n",
       "  </tbody>\n",
       "</table>\n",
       "</div>"
      ],
      "text/plain": [
       "   SUBJECT_ID                                              IMAGE  \\\n",
       "0           1  /data16/public/prostate/data/public/TCIA/Prost...   \n",
       "1           2  /data16/public/prostate/data/public/TCIA/Prost...   \n",
       "2           3  /data16/public/prostate/data/public/TCIA/Prost...   \n",
       "3           4  /data16/public/prostate/data/public/TCIA/Prost...   \n",
       "4           5  /data16/public/prostate/data/public/TCIA/Prost...   \n",
       "\n",
       "                                                SEGM  \\\n",
       "0  /data16/public/prostate/data/public/TCIA/Prost...   \n",
       "1  /data16/public/prostate/data/public/TCIA/Prost...   \n",
       "2  /data16/public/prostate/data/public/TCIA/Prost...   \n",
       "3  /data16/public/prostate/data/public/TCIA/Prost...   \n",
       "4  /data16/public/prostate/data/public/TCIA/Prost...   \n",
       "\n",
       "                                       SEGM_PROSTATE  DATASET_ID  \n",
       "0  /data16/public/prostate/data/public/TCIA/Prost...  Prostate3T  \n",
       "1  /data16/public/prostate/data/public/TCIA/Prost...  Prostate3T  \n",
       "2  /data16/public/prostate/data/public/TCIA/Prost...  Prostate3T  \n",
       "3  /data16/public/prostate/data/public/TCIA/Prost...  Prostate3T  \n",
       "4  /data16/public/prostate/data/public/TCIA/Prost...  Prostate3T  "
      ]
     },
     "execution_count": 7,
     "metadata": {},
     "output_type": "execute_result"
    }
   ],
   "source": [
    "PROSTATE3T_PATH = r'../resources/data/Prostate3T_data_index.csv'\n",
    "\n",
    "df_test = pd.read_csv(PROSTATE3T_PATH, index_col=False)\n",
    "df_test.drop_duplicates(inplace=True)\n",
    "\n",
    "print('Dataset contains %d entries' % len(df_test))\n",
    "df_test.head(5)"
   ]
  },
  {
   "cell_type": "code",
   "execution_count": 8,
   "metadata": {},
   "outputs": [
    {
     "name": "stdout",
     "output_type": "stream",
     "text": [
      "Number of training files:  98\n",
      "Number of testing files:  30\n"
     ]
    }
   ],
   "source": [
    "# Convert DF to dictionary\n",
    "train_data_dict = df.to_dict('records')\n",
    "test_data_dict = df_test.to_dict('records')\n",
    "\n",
    "print('Number of training files: ', len(train_data_dict))\n",
    "print('Number of testing files: ', len(test_data_dict))"
   ]
  },
  {
   "cell_type": "markdown",
   "metadata": {},
   "source": [
    "## Setup Input Transformations"
   ]
  },
  {
   "cell_type": "code",
   "execution_count": 9,
   "metadata": {},
   "outputs": [],
   "source": [
    "SPACING = (1.5,1.5,2.5)\n",
    "PATCH_SIZE = (48,48,16)\n",
    "MARGIN = 8\n",
    "THETA = 5./180.\n",
    "\n",
    "# Setup a weighted sampling map using the segmenation image\n",
    "def map_labels(x, mapping_dict):\n",
    "    for key, value in mapping_dict.items():\n",
    "        x[x==key] = value\n",
    "    return x\n",
    "\n",
    "# Map TZ and AFS to CG (label 2)\n",
    "TRAIN_MAPPING_FN = {3: 2, 4: 2}\n",
    "\n",
    "# Weighted sampling func\n",
    "TEST_MAPPING_FN = {1: 10, 2: 1}\n",
    "\n",
    "\n",
    "train_transforms = Compose([\n",
    "    LoadImaged(keys=['IMAGE', 'SEGM'], reader='NibabelReader', as_closest_canonical=True),\n",
    "    AddChanneld(keys=['IMAGE', 'SEGM']),\n",
    "    Orientationd(keys=['IMAGE','SEGM'], axcodes='RAS'),\n",
    "    Spacingd(keys=['IMAGE', 'SEGM'], \n",
    "             pixdim=SPACING, mode=('bilinear', 'nearest'), \n",
    "             padding_mode=('reflection','reflection')),\n",
    "    ScaleIntensityRangePercentilesd(keys=['IMAGE'], lower=25, upper=75, b_min=-0.5, b_max=0.5, clip=False),\n",
    "    CropForegroundd(keys=['IMAGE', 'SEGM'], \n",
    "                source_key='SEGM', select_fn=lambda x: x > 0, margin=MARGIN),\n",
    "    Lambdad(keys=['SEGM'], func=lambda x: map_labels(x, TRAIN_MAPPING_FN)),\n",
    "    SpatialPadd(keys=['IMAGE', 'SEGM'], \n",
    "                spatial_size=PATCH_SIZE, mode=('reflect','reflect')),\n",
    "    RandSpatialCropd(keys=['IMAGE', 'SEGM'], roi_size=PATCH_SIZE, random_size=False),\n",
    "    RandFlipd(keys=['IMAGE', 'SEGM'], prob=0.5, spatial_axis=[0]),\n",
    "    ToTensord(keys=['IMAGE', 'SEGM'])\n",
    "])\n",
    "\n",
    "\n",
    "test_transforms = Compose([\n",
    "    LoadImaged(keys=['IMAGE', 'SEGM'], reader='NibabelReader', as_closest_canonical=True),\n",
    "    AddChanneld(keys=['IMAGE', 'SEGM']),\n",
    "    Orientationd(keys=['IMAGE','SEGM'], axcodes='RAS'),\n",
    "    Spacingd(keys=['IMAGE', 'SEGM'], \n",
    "             pixdim=SPACING, mode=('bilinear', 'nearest'), \n",
    "             padding_mode=('reflection','reflection')),\n",
    "    CropForegroundd(keys=['IMAGE', 'SEGM'], \n",
    "                    source_key='SEGM', select_fn=lambda x: x > 0, margin=MARGIN),\n",
    "    ScaleIntensityRangePercentilesd(keys=['IMAGE'], lower=25, upper=75, b_min=-0.5, b_max=0.5, clip=False),\n",
    "    ToTensord(keys=['IMAGE', 'SEGM'])\n",
    "])\n",
    "\n"
   ]
  },
  {
   "cell_type": "markdown",
   "metadata": {},
   "source": [
    "## Check Input Data"
   ]
  },
  {
   "cell_type": "code",
   "execution_count": 10,
   "metadata": {},
   "outputs": [
    {
     "name": "stdout",
     "output_type": "stream",
     "text": [
      "torch.Size([1, 1, 48, 38, 23])\n",
      "image shape: torch.Size([48, 38, 23]), label shape: torch.Size([48, 38, 23])\n",
      "image mean: 0.05985688418149948\n"
     ]
    },
    {
     "data": {
      "image/png": "[encoded data removed]",
      "text/plain": [
       "<Figure size 648x216 with 2 Axes>"
      ]
     },
     "metadata": {
      "needs_background": "light"
     },
     "output_type": "display_data"
    }
   ],
   "source": [
    "# check_ds = monai.data.Dataset(data=train_data_dict[:4], transform=train_transforms)\n",
    "check_ds = monai.data.Dataset(data=test_data_dict[:1], transform=test_transforms)\n",
    "\n",
    "check_loader = DataLoader(check_ds, batch_size=3, num_workers=0, collate_fn=list_data_collate)\n",
    "check_data = monai.utils.misc.first(check_loader)\n",
    "print(check_data['IMAGE'].shape)\n",
    "\n",
    "num_display = 10\n",
    "if check_data['IMAGE'].shape[0] < num_display:\n",
    "    num_display = check_data['IMAGE'].shape[0]\n",
    "\n",
    "for i in range(num_display):\n",
    "    image = check_data['IMAGE'][i][0]\n",
    "    label = check_data['SEGM'][i][0]\n",
    "    print('image shape: {}, label shape: {}'.format(image.shape, label.shape))\n",
    "    print('image mean: {}'.format(np.mean(image.numpy())))\n",
    "\n",
    "    slice_num = image.shape[2]//3\n",
    "    \n",
    "    plt.figure('check', (9, 3))\n",
    "    plt.subplot(1, 2, 1)\n",
    "    plt.title('IMAGE')\n",
    "    plt.imshow(image[:,:,slice_num], cmap='gray')\n",
    "    plt.subplot(1, 2, 2)\n",
    "    plt.title('SEGM')\n",
    "    plt.imshow(label[:,:,slice_num])\n",
    "    plt.show()"
   ]
  },
  {
   "cell_type": "markdown",
   "metadata": {},
   "source": [
    "## Create a Data Cache for Training and Validation Data"
   ]
  },
  {
   "cell_type": "code",
   "execution_count": 11,
   "metadata": {},
   "outputs": [
    {
     "name": "stderr",
     "output_type": "stream",
     "text": [
      "Loading dataset: 100%|██████████| 98/98 [00:24<00:00,  4.04it/s]\n"
     ]
    }
   ],
   "source": [
    "train_ds = monai.data.CacheDataset(\n",
    "    data=train_data_dict, transform=train_transforms, cache_rate=1.0, num_workers=10\n",
    ")\n",
    "\n",
    "train_loader = DataLoader(train_ds, batch_size=16, shuffle=True, num_workers=4, collate_fn=list_data_collate)"
   ]
  },
  {
   "cell_type": "markdown",
   "metadata": {},
   "source": [
    "## Create Dataset for Testing Data"
   ]
  },
  {
   "cell_type": "code",
   "execution_count": 12,
   "metadata": {},
   "outputs": [
    {
     "name": "stderr",
     "output_type": "stream",
     "text": [
      "Loading dataset: 100%|██████████| 30/30 [00:03<00:00,  8.40it/s]\n"
     ]
    }
   ],
   "source": [
    "test_ds = monai.data.CacheDataset(\n",
    "    data=test_data_dict, transform=test_transforms, cache_rate=1.0, num_workers=10\n",
    ")\n",
    "\n",
    "test_loader = DataLoader(test_ds, batch_size=1, num_workers=4)"
   ]
  },
  {
   "cell_type": "code",
   "execution_count": 2,
   "metadata": {},
   "outputs": [],
   "source": [
    "class PZSegm(pytorch_lightning.LightningModule):\n",
    "\n",
    "    def __init__(self, dropout=0.0):\n",
    "        super().__init__()\n",
    "        \n",
    "        self.dropout = dropout\n",
    "        \n",
    "        self._model = monai.networks.nets.UNet(\n",
    "            dimensions=3, \n",
    "            in_channels=1, \n",
    "            out_channels=3, \n",
    "            channels=(16, 32, 64, 128),\n",
    "            strides=(2, 2, 2), \n",
    "            num_res_units=2, \n",
    "            norm=Norm.BATCH,\n",
    "            dropout=self.dropout\n",
    "        )\n",
    "        \n",
    "        self.loss_function = torch.nn.CrossEntropyLoss()\n",
    "        self.one_hot_transform = monai.transforms.AsDiscrete(to_onehot=True, n_classes=3)\n",
    "        self.val_dice_function = monai.metrics.DiceMetric(include_background=False)\n",
    "        \n",
    "    def forward(self, x):\n",
    "        return self._model(x)\n",
    "\n",
    "    \n",
    "    def prepare_data(self):\n",
    "        # set deterministic training for reproducibility\n",
    "        set_determinism(seed=0)\n",
    "    \n",
    "    \n",
    "    def training_step(self, batch, batch_idx):\n",
    "        images = batch[\"IMAGE\"]\n",
    "        labels = batch[\"SEGM\"]\n",
    "        \n",
    "        outputs = self.forward(images)\n",
    "        \n",
    "        loss = self.loss_function(outputs, torch.squeeze(labels, dim=1).long())\n",
    "        \n",
    "        if batch_idx<1:\n",
    "            img2tensorboard.plot_2d_or_3d_image(data=images, \n",
    "                            step=self.current_epoch, \n",
    "                            writer=self.logger.experiment,\n",
    "                            tag='Train/Input')\n",
    "            img2tensorboard.plot_2d_or_3d_image(data=torch.argmax(outputs, dim=1, keepdim=True), \n",
    "                            step=self.current_epoch, \n",
    "                            writer=self.logger.experiment,\n",
    "                            tag='Train/Output')        \n",
    "        \n",
    "        return {\"loss\": loss}\n",
    "        \n",
    "    \n",
    "    def training_epoch_end(self, outputs):\n",
    "        # Only add the graph at the first epoch\n",
    "        if self.current_epoch==1:\n",
    "            sample_input = torch.rand((1,1,64,64,8))\n",
    "            self.logger.experiment.add_graph(\n",
    "                PZSegm(), \n",
    "                [sample_input])\n",
    "        \n",
    "        # Calculate the average loss\n",
    "        avg_loss = torch.stack([x['loss'] for x in outputs]).mean()\n",
    "        # Logging at the end of every epoch\n",
    "        self.logger.experiment.add_scalar('Train/Loss', avg_loss, self.current_epoch)\n",
    "    \n",
    "    \n",
    "    def validation_step(self, batch, batch_idx):\n",
    "        images = batch[\"IMAGE\"]\n",
    "        labels = batch[\"SEGM\"]\n",
    "        \n",
    "        roi_size = (128, 128, 80)\n",
    "        sw_batch_size = 4\n",
    "        outputs = sliding_window_inference(images, roi_size, sw_batch_size, self.forward)\n",
    "\n",
    "        loss = self.loss_function(outputs, torch.squeeze(labels, dim=1).long())\n",
    "\n",
    "        argmax = torch.argmax(outputs, dim=1, keepdim=True)\n",
    "    \n",
    "        y_pred_onehot = torch.stack([self.one_hot_transform(i) for i in decollate_batch(argmax)])\n",
    "        y_onehot = torch.stack([self.one_hot_transform(i) for i in decollate_batch(labels)])\n",
    "        \n",
    "        val_dice = self.val_dice_function(y_pred_onehot,y_onehot)        \n",
    "                \n",
    "        if batch_idx<1:\n",
    "            img2tensorboard.plot_2d_or_3d_image(data=images, \n",
    "                            step=self.current_epoch, \n",
    "                            writer=self.logger.experiment,\n",
    "                            tag='Validation/Input')\n",
    "            img2tensorboard.plot_2d_or_3d_image(data=argmax, \n",
    "                            step=self.current_epoch, \n",
    "                            writer=self.logger.experiment,\n",
    "                            tag='Validation/Output')\n",
    "\n",
    "        return {\"val_loss\": loss, \"val_dice\": val_dice}\n",
    "\n",
    "    \n",
    "    def validation_epoch_end(self, outputs):\n",
    "        # Calculate the average loss\n",
    "        avg_loss = torch.stack([x['val_loss'] for x in outputs]).mean()\n",
    "        total_dice = torch.stack([x['val_dice'][0] for x in outputs])\n",
    "        filtered_total_dice = total_dice[~torch.any(total_dice.isnan(),dim=1)]\n",
    "        avg_dice = filtered_total_dice.mean()\n",
    "        # Logging at the end of every epoch\n",
    "        self.logger.experiment.add_scalar('Val/Loss', avg_loss, self.current_epoch)\n",
    "        self.logger.experiment.add_scalar('Val/Dice', avg_dice, self.current_epoch)\n",
    "        self.log('val_loss',avg_loss) # save best model according to this\n",
    "\n",
    "    \n",
    "    def configure_optimizers(self):\n",
    "        opt = torch.optim.Adam(self._model.parameters(), lr=5e-4)\n",
    "        scheduler = {'scheduler': torch.optim.lr_scheduler.StepLR(optimizer=opt, step_size=10, gamma=0.98),\n",
    "                     'name': 'Learning Rate'}\n",
    "        return [opt], [scheduler]\n",
    "    \n",
    "    "
   ]
  },
  {
   "cell_type": "code",
   "execution_count": 18,
   "metadata": {
    "collapsed": true
   },
   "outputs": [
    {
     "name": "stdout",
     "output_type": "stream",
     "text": [
      "----------------------------------------------------------------\n",
      "        Layer (type)               Output Shape         Param #\n",
      "================================================================\n",
      "            Conv3d-1       [-1, 16, 48, 48, 16]             448\n",
      "            Conv3d-2       [-1, 16, 48, 48, 16]             448\n",
      "       BatchNorm3d-3       [-1, 16, 48, 48, 16]              32\n",
      "           Dropout-4       [-1, 16, 48, 48, 16]               0\n",
      "             PReLU-5       [-1, 16, 48, 48, 16]               1\n",
      "            Conv3d-6       [-1, 16, 48, 48, 16]           6,928\n",
      "       BatchNorm3d-7       [-1, 16, 48, 48, 16]              32\n",
      "           Dropout-8       [-1, 16, 48, 48, 16]               0\n",
      "             PReLU-9       [-1, 16, 48, 48, 16]               1\n",
      "     ResidualUnit-10       [-1, 16, 48, 48, 16]               0\n",
      "           Conv3d-11        [-1, 32, 24, 24, 8]          13,856\n",
      "           Conv3d-12        [-1, 32, 24, 24, 8]          13,856\n",
      "      BatchNorm3d-13        [-1, 32, 24, 24, 8]              64\n",
      "          Dropout-14        [-1, 32, 24, 24, 8]               0\n",
      "            PReLU-15        [-1, 32, 24, 24, 8]               1\n",
      "           Conv3d-16        [-1, 32, 24, 24, 8]          27,680\n",
      "      BatchNorm3d-17        [-1, 32, 24, 24, 8]              64\n",
      "          Dropout-18        [-1, 32, 24, 24, 8]               0\n",
      "            PReLU-19        [-1, 32, 24, 24, 8]               1\n",
      "     ResidualUnit-20        [-1, 32, 24, 24, 8]               0\n",
      "           Conv3d-21        [-1, 64, 12, 12, 4]          55,360\n",
      "           Conv3d-22        [-1, 64, 12, 12, 4]          55,360\n",
      "      BatchNorm3d-23        [-1, 64, 12, 12, 4]             128\n",
      "          Dropout-24        [-1, 64, 12, 12, 4]               0\n",
      "            PReLU-25        [-1, 64, 12, 12, 4]               1\n",
      "           Conv3d-26        [-1, 64, 12, 12, 4]         110,656\n",
      "      BatchNorm3d-27        [-1, 64, 12, 12, 4]             128\n",
      "          Dropout-28        [-1, 64, 12, 12, 4]               0\n",
      "            PReLU-29        [-1, 64, 12, 12, 4]               1\n",
      "     ResidualUnit-30        [-1, 64, 12, 12, 4]               0\n",
      "           Conv3d-31       [-1, 128, 12, 12, 4]           8,320\n",
      "           Conv3d-32       [-1, 128, 12, 12, 4]         221,312\n",
      "      BatchNorm3d-33       [-1, 128, 12, 12, 4]             256\n",
      "          Dropout-34       [-1, 128, 12, 12, 4]               0\n",
      "            PReLU-35       [-1, 128, 12, 12, 4]               1\n",
      "           Conv3d-36       [-1, 128, 12, 12, 4]         442,496\n",
      "      BatchNorm3d-37       [-1, 128, 12, 12, 4]             256\n",
      "          Dropout-38       [-1, 128, 12, 12, 4]               0\n",
      "            PReLU-39       [-1, 128, 12, 12, 4]               1\n",
      "     ResidualUnit-40       [-1, 128, 12, 12, 4]               0\n",
      "   SkipConnection-41       [-1, 192, 12, 12, 4]               0\n",
      "  ConvTranspose3d-42        [-1, 32, 24, 24, 8]         165,920\n",
      "      BatchNorm3d-43        [-1, 32, 24, 24, 8]              64\n",
      "          Dropout-44        [-1, 32, 24, 24, 8]               0\n",
      "            PReLU-45        [-1, 32, 24, 24, 8]               1\n",
      "         Identity-46        [-1, 32, 24, 24, 8]               0\n",
      "           Conv3d-47        [-1, 32, 24, 24, 8]          27,680\n",
      "      BatchNorm3d-48        [-1, 32, 24, 24, 8]              64\n",
      "          Dropout-49        [-1, 32, 24, 24, 8]               0\n",
      "            PReLU-50        [-1, 32, 24, 24, 8]               1\n",
      "     ResidualUnit-51        [-1, 32, 24, 24, 8]               0\n",
      "   SkipConnection-52        [-1, 64, 24, 24, 8]               0\n",
      "  ConvTranspose3d-53       [-1, 16, 48, 48, 16]          27,664\n",
      "      BatchNorm3d-54       [-1, 16, 48, 48, 16]              32\n",
      "          Dropout-55       [-1, 16, 48, 48, 16]               0\n",
      "            PReLU-56       [-1, 16, 48, 48, 16]               1\n",
      "         Identity-57       [-1, 16, 48, 48, 16]               0\n",
      "           Conv3d-58       [-1, 16, 48, 48, 16]           6,928\n",
      "      BatchNorm3d-59       [-1, 16, 48, 48, 16]              32\n",
      "          Dropout-60       [-1, 16, 48, 48, 16]               0\n",
      "            PReLU-61       [-1, 16, 48, 48, 16]               1\n",
      "     ResidualUnit-62       [-1, 16, 48, 48, 16]               0\n",
      "   SkipConnection-63       [-1, 32, 48, 48, 16]               0\n",
      "  ConvTranspose3d-64        [-1, 3, 96, 96, 32]           2,595\n",
      "      BatchNorm3d-65        [-1, 3, 96, 96, 32]               6\n",
      "          Dropout-66        [-1, 3, 96, 96, 32]               0\n",
      "            PReLU-67        [-1, 3, 96, 96, 32]               1\n",
      "         Identity-68        [-1, 3, 96, 96, 32]               0\n",
      "           Conv3d-69        [-1, 3, 96, 96, 32]             246\n",
      "     ResidualUnit-70        [-1, 3, 96, 96, 32]               0\n",
      "             UNet-71        [-1, 3, 96, 96, 32]               0\n",
      "================================================================\n",
      "Total params: 1,188,924\n",
      "Trainable params: 1,188,924\n",
      "Non-trainable params: 0\n",
      "----------------------------------------------------------------\n",
      "Input size (MB): 1.12\n",
      "Forward/backward pass size (MB): 187.03\n",
      "Params size (MB): 4.54\n",
      "Estimated Total Size (MB): 192.69\n",
      "----------------------------------------------------------------\n"
     ]
    }
   ],
   "source": [
    "from torchsummary import summary\n",
    "\n",
    "device = torch.device(\"cuda:0\" if torch.cuda.is_available() else \"cpu\")\n",
    "model = PZSegm().to(device)\n",
    "summary(model, (1,96,96,32))"
   ]
  },
  {
   "cell_type": "markdown",
   "metadata": {},
   "source": [
    "## Train the Model Using Lightning Training Loop"
   ]
  },
  {
   "cell_type": "code",
   "execution_count": 13,
   "metadata": {},
   "outputs": [
    {
     "name": "stdout",
     "output_type": "stream",
     "text": [
      "MODEL_PATH=../resources/model/baseline_ce/saved_model\n"
     ]
    }
   ],
   "source": [
    "MODEL_PATH = os.path.join(EXP_PATH,'saved_model')\n",
    "print('MODEL_PATH={}'.format(MODEL_PATH))"
   ]
  },
  {
   "cell_type": "code",
   "execution_count": 15,
   "metadata": {
    "collapsed": true
   },
   "outputs": [
    {
     "name": "stderr",
     "output_type": "stream",
     "text": [
      "/home1/jz729/anaconda3/envs/monai_pirads/lib/python3.8/site-packages/pytorch_lightning/utilities/distributed.py:49: UserWarning: Checkpoint directory /data16/public/prostate/pirads-sttr/phase1_model/pz_segm/baseline_ce/saved_model exists and is not empty.\n",
      "  warnings.warn(*args, **kwargs)\n",
      "GPU available: True, used: True\n",
      "TPU available: None, using: 0 TPU cores\n",
      "LOCAL_RANK: 0 - CUDA_VISIBLE_DEVICES: [0,1,2]\n",
      "\n",
      "  | Name          | Type             | Params\n",
      "---------------------------------------------------\n",
      "0 | _model        | UNet             | 1.2 M \n",
      "1 | loss_function | CrossEntropyLoss | 0     \n",
      "---------------------------------------------------\n",
      "1.2 M     Trainable params\n",
      "0         Non-trainable params\n",
      "1.2 M     Total params\n",
      "Restored states from the checkpoint file at /data16/public/prostate/pirads-sttr/phase1_model/pz_segm/baseline_ce/saved_model/last.ckpt\n"
     ]
    },
    {
     "data": {
      "application/vnd.jupyter.widget-view+json": {
       "model_id": "",
       "version_major": 2,
       "version_minor": 0
      },
      "text/plain": [
       "Validation sanity check: |          | 0/? [00:00<?, ?it/s]"
      ]
     },
     "metadata": {},
     "output_type": "display_data"
    },
    {
     "data": {
      "application/vnd.jupyter.widget-view+json": {
       "model_id": "51d0ba3164b6435eb2b1ea0aef21c27d",
       "version_major": 2,
       "version_minor": 0
      },
      "text/plain": [
       "Training: |          | 0/? [00:00<?, ?it/s]"
      ]
     },
     "metadata": {},
     "output_type": "display_data"
    },
    {
     "data": {
      "application/vnd.jupyter.widget-view+json": {
       "model_id": "",
       "version_major": 2,
       "version_minor": 0
      },
      "text/plain": [
       "Validating: |          | 0/? [00:00<?, ?it/s]"
      ]
     },
     "metadata": {},
     "output_type": "display_data"
    },
    {
     "data": {
      "application/vnd.jupyter.widget-view+json": {
       "model_id": "",
       "version_major": 2,
       "version_minor": 0
      },
      "text/plain": [
       "Validating: |          | 0/? [00:00<?, ?it/s]"
      ]
     },
     "metadata": {},
     "output_type": "display_data"
    },
    {
     "data": {
      "application/vnd.jupyter.widget-view+json": {
       "model_id": "",
       "version_major": 2,
       "version_minor": 0
      },
      "text/plain": [
       "Validating: |          | 0/? [00:00<?, ?it/s]"
      ]
     },
     "metadata": {},
     "output_type": "display_data"
    },
    {
     "data": {
      "application/vnd.jupyter.widget-view+json": {
       "model_id": "",
       "version_major": 2,
       "version_minor": 0
      },
      "text/plain": [
       "Validating: |          | 0/? [00:00<?, ?it/s]"
      ]
     },
     "metadata": {},
     "output_type": "display_data"
    },
    {
     "data": {
      "application/vnd.jupyter.widget-view+json": {
       "model_id": "",
       "version_major": 2,
       "version_minor": 0
      },
      "text/plain": [
       "Validating: |          | 0/? [00:00<?, ?it/s]"
      ]
     },
     "metadata": {},
     "output_type": "display_data"
    },
    {
     "data": {
      "application/vnd.jupyter.widget-view+json": {
       "model_id": "",
       "version_major": 2,
       "version_minor": 0
      },
      "text/plain": [
       "Validating: |          | 0/? [00:00<?, ?it/s]"
      ]
     },
     "metadata": {},
     "output_type": "display_data"
    },
    {
     "data": {
      "application/vnd.jupyter.widget-view+json": {
       "model_id": "",
       "version_major": 2,
       "version_minor": 0
      },
      "text/plain": [
       "Validating: |          | 0/? [00:00<?, ?it/s]"
      ]
     },
     "metadata": {},
     "output_type": "display_data"
    },
    {
     "data": {
      "application/vnd.jupyter.widget-view+json": {
       "model_id": "",
       "version_major": 2,
       "version_minor": 0
      },
      "text/plain": [
       "Validating: |          | 0/? [00:00<?, ?it/s]"
      ]
     },
     "metadata": {},
     "output_type": "display_data"
    },
    {
     "data": {
      "application/vnd.jupyter.widget-view+json": {
       "model_id": "",
       "version_major": 2,
       "version_minor": 0
      },
      "text/plain": [
       "Validating: |          | 0/? [00:00<?, ?it/s]"
      ]
     },
     "metadata": {},
     "output_type": "display_data"
    },
    {
     "data": {
      "application/vnd.jupyter.widget-view+json": {
       "model_id": "",
       "version_major": 2,
       "version_minor": 0
      },
      "text/plain": [
       "Validating: |          | 0/? [00:00<?, ?it/s]"
      ]
     },
     "metadata": {},
     "output_type": "display_data"
    },
    {
     "data": {
      "application/vnd.jupyter.widget-view+json": {
       "model_id": "",
       "version_major": 2,
       "version_minor": 0
      },
      "text/plain": [
       "Validating: |          | 0/? [00:00<?, ?it/s]"
      ]
     },
     "metadata": {},
     "output_type": "display_data"
    },
    {
     "data": {
      "application/vnd.jupyter.widget-view+json": {
       "model_id": "",
       "version_major": 2,
       "version_minor": 0
      },
      "text/plain": [
       "Validating: |          | 0/? [00:00<?, ?it/s]"
      ]
     },
     "metadata": {},
     "output_type": "display_data"
    },
    {
     "data": {
      "application/vnd.jupyter.widget-view+json": {
       "model_id": "",
       "version_major": 2,
       "version_minor": 0
      },
      "text/plain": [
       "Validating: |          | 0/? [00:00<?, ?it/s]"
      ]
     },
     "metadata": {},
     "output_type": "display_data"
    },
    {
     "data": {
      "application/vnd.jupyter.widget-view+json": {
       "model_id": "",
       "version_major": 2,
       "version_minor": 0
      },
      "text/plain": [
       "Validating: |          | 0/? [00:00<?, ?it/s]"
      ]
     },
     "metadata": {},
     "output_type": "display_data"
    },
    {
     "data": {
      "application/vnd.jupyter.widget-view+json": {
       "model_id": "",
       "version_major": 2,
       "version_minor": 0
      },
      "text/plain": [
       "Validating: |          | 0/? [00:00<?, ?it/s]"
      ]
     },
     "metadata": {},
     "output_type": "display_data"
    },
    {
     "data": {
      "application/vnd.jupyter.widget-view+json": {
       "model_id": "",
       "version_major": 2,
       "version_minor": 0
      },
      "text/plain": [
       "Validating: |          | 0/? [00:00<?, ?it/s]"
      ]
     },
     "metadata": {},
     "output_type": "display_data"
    },
    {
     "data": {
      "application/vnd.jupyter.widget-view+json": {
       "model_id": "",
       "version_major": 2,
       "version_minor": 0
      },
      "text/plain": [
       "Validating: |          | 0/? [00:00<?, ?it/s]"
      ]
     },
     "metadata": {},
     "output_type": "display_data"
    },
    {
     "data": {
      "application/vnd.jupyter.widget-view+json": {
       "model_id": "",
       "version_major": 2,
       "version_minor": 0
      },
      "text/plain": [
       "Validating: |          | 0/? [00:00<?, ?it/s]"
      ]
     },
     "metadata": {},
     "output_type": "display_data"
    },
    {
     "data": {
      "application/vnd.jupyter.widget-view+json": {
       "model_id": "",
       "version_major": 2,
       "version_minor": 0
      },
      "text/plain": [
       "Validating: |          | 0/? [00:00<?, ?it/s]"
      ]
     },
     "metadata": {},
     "output_type": "display_data"
    },
    {
     "data": {
      "application/vnd.jupyter.widget-view+json": {
       "model_id": "",
       "version_major": 2,
       "version_minor": 0
      },
      "text/plain": [
       "Validating: |          | 0/? [00:00<?, ?it/s]"
      ]
     },
     "metadata": {},
     "output_type": "display_data"
    },
    {
     "data": {
      "application/vnd.jupyter.widget-view+json": {
       "model_id": "",
       "version_major": 2,
       "version_minor": 0
      },
      "text/plain": [
       "Validating: |          | 0/? [00:00<?, ?it/s]"
      ]
     },
     "metadata": {},
     "output_type": "display_data"
    },
    {
     "data": {
      "application/vnd.jupyter.widget-view+json": {
       "model_id": "",
       "version_major": 2,
       "version_minor": 0
      },
      "text/plain": [
       "Validating: |          | 0/? [00:00<?, ?it/s]"
      ]
     },
     "metadata": {},
     "output_type": "display_data"
    },
    {
     "data": {
      "application/vnd.jupyter.widget-view+json": {
       "model_id": "",
       "version_major": 2,
       "version_minor": 0
      },
      "text/plain": [
       "Validating: |          | 0/? [00:00<?, ?it/s]"
      ]
     },
     "metadata": {},
     "output_type": "display_data"
    },
    {
     "data": {
      "application/vnd.jupyter.widget-view+json": {
       "model_id": "",
       "version_major": 2,
       "version_minor": 0
      },
      "text/plain": [
       "Validating: |          | 0/? [00:00<?, ?it/s]"
      ]
     },
     "metadata": {},
     "output_type": "display_data"
    },
    {
     "data": {
      "application/vnd.jupyter.widget-view+json": {
       "model_id": "",
       "version_major": 2,
       "version_minor": 0
      },
      "text/plain": [
       "Validating: |          | 0/? [00:00<?, ?it/s]"
      ]
     },
     "metadata": {},
     "output_type": "display_data"
    },
    {
     "data": {
      "application/vnd.jupyter.widget-view+json": {
       "model_id": "",
       "version_major": 2,
       "version_minor": 0
      },
      "text/plain": [
       "Validating: |          | 0/? [00:00<?, ?it/s]"
      ]
     },
     "metadata": {},
     "output_type": "display_data"
    },
    {
     "data": {
      "application/vnd.jupyter.widget-view+json": {
       "model_id": "",
       "version_major": 2,
       "version_minor": 0
      },
      "text/plain": [
       "Validating: |          | 0/? [00:00<?, ?it/s]"
      ]
     },
     "metadata": {},
     "output_type": "display_data"
    },
    {
     "data": {
      "application/vnd.jupyter.widget-view+json": {
       "model_id": "",
       "version_major": 2,
       "version_minor": 0
      },
      "text/plain": [
       "Validating: |          | 0/? [00:00<?, ?it/s]"
      ]
     },
     "metadata": {},
     "output_type": "display_data"
    },
    {
     "data": {
      "application/vnd.jupyter.widget-view+json": {
       "model_id": "",
       "version_major": 2,
       "version_minor": 0
      },
      "text/plain": [
       "Validating: |          | 0/? [00:00<?, ?it/s]"
      ]
     },
     "metadata": {},
     "output_type": "display_data"
    },
    {
     "data": {
      "application/vnd.jupyter.widget-view+json": {
       "model_id": "",
       "version_major": 2,
       "version_minor": 0
      },
      "text/plain": [
       "Validating: |          | 0/? [00:00<?, ?it/s]"
      ]
     },
     "metadata": {},
     "output_type": "display_data"
    },
    {
     "data": {
      "application/vnd.jupyter.widget-view+json": {
       "model_id": "",
       "version_major": 2,
       "version_minor": 0
      },
      "text/plain": [
       "Validating: |          | 0/? [00:00<?, ?it/s]"
      ]
     },
     "metadata": {},
     "output_type": "display_data"
    },
    {
     "data": {
      "application/vnd.jupyter.widget-view+json": {
       "model_id": "",
       "version_major": 2,
       "version_minor": 0
      },
      "text/plain": [
       "Validating: |          | 0/? [00:00<?, ?it/s]"
      ]
     },
     "metadata": {},
     "output_type": "display_data"
    },
    {
     "data": {
      "application/vnd.jupyter.widget-view+json": {
       "model_id": "",
       "version_major": 2,
       "version_minor": 0
      },
      "text/plain": [
       "Validating: |          | 0/? [00:00<?, ?it/s]"
      ]
     },
     "metadata": {},
     "output_type": "display_data"
    },
    {
     "data": {
      "application/vnd.jupyter.widget-view+json": {
       "model_id": "",
       "version_major": 2,
       "version_minor": 0
      },
      "text/plain": [
       "Validating: |          | 0/? [00:00<?, ?it/s]"
      ]
     },
     "metadata": {},
     "output_type": "display_data"
    },
    {
     "data": {
      "application/vnd.jupyter.widget-view+json": {
       "model_id": "",
       "version_major": 2,
       "version_minor": 0
      },
      "text/plain": [
       "Validating: |          | 0/? [00:00<?, ?it/s]"
      ]
     },
     "metadata": {},
     "output_type": "display_data"
    },
    {
     "data": {
      "application/vnd.jupyter.widget-view+json": {
       "model_id": "",
       "version_major": 2,
       "version_minor": 0
      },
      "text/plain": [
       "Validating: |          | 0/? [00:00<?, ?it/s]"
      ]
     },
     "metadata": {},
     "output_type": "display_data"
    },
    {
     "data": {
      "application/vnd.jupyter.widget-view+json": {
       "model_id": "",
       "version_major": 2,
       "version_minor": 0
      },
      "text/plain": [
       "Validating: |          | 0/? [00:00<?, ?it/s]"
      ]
     },
     "metadata": {},
     "output_type": "display_data"
    },
    {
     "data": {
      "application/vnd.jupyter.widget-view+json": {
       "model_id": "",
       "version_major": 2,
       "version_minor": 0
      },
      "text/plain": [
       "Validating: |          | 0/? [00:00<?, ?it/s]"
      ]
     },
     "metadata": {},
     "output_type": "display_data"
    },
    {
     "data": {
      "application/vnd.jupyter.widget-view+json": {
       "model_id": "",
       "version_major": 2,
       "version_minor": 0
      },
      "text/plain": [
       "Validating: |          | 0/? [00:00<?, ?it/s]"
      ]
     },
     "metadata": {},
     "output_type": "display_data"
    },
    {
     "data": {
      "application/vnd.jupyter.widget-view+json": {
       "model_id": "",
       "version_major": 2,
       "version_minor": 0
      },
      "text/plain": [
       "Validating: |          | 0/? [00:00<?, ?it/s]"
      ]
     },
     "metadata": {},
     "output_type": "display_data"
    },
    {
     "data": {
      "application/vnd.jupyter.widget-view+json": {
       "model_id": "",
       "version_major": 2,
       "version_minor": 0
      },
      "text/plain": [
       "Validating: |          | 0/? [00:00<?, ?it/s]"
      ]
     },
     "metadata": {},
     "output_type": "display_data"
    },
    {
     "data": {
      "application/vnd.jupyter.widget-view+json": {
       "model_id": "",
       "version_major": 2,
       "version_minor": 0
      },
      "text/plain": [
       "Validating: |          | 0/? [00:00<?, ?it/s]"
      ]
     },
     "metadata": {},
     "output_type": "display_data"
    },
    {
     "data": {
      "application/vnd.jupyter.widget-view+json": {
       "model_id": "",
       "version_major": 2,
       "version_minor": 0
      },
      "text/plain": [
       "Validating: |          | 0/? [00:00<?, ?it/s]"
      ]
     },
     "metadata": {},
     "output_type": "display_data"
    },
    {
     "data": {
      "application/vnd.jupyter.widget-view+json": {
       "model_id": "",
       "version_major": 2,
       "version_minor": 0
      },
      "text/plain": [
       "Validating: |          | 0/? [00:00<?, ?it/s]"
      ]
     },
     "metadata": {},
     "output_type": "display_data"
    },
    {
     "data": {
      "application/vnd.jupyter.widget-view+json": {
       "model_id": "",
       "version_major": 2,
       "version_minor": 0
      },
      "text/plain": [
       "Validating: |          | 0/? [00:00<?, ?it/s]"
      ]
     },
     "metadata": {},
     "output_type": "display_data"
    },
    {
     "data": {
      "application/vnd.jupyter.widget-view+json": {
       "model_id": "",
       "version_major": 2,
       "version_minor": 0
      },
      "text/plain": [
       "Validating: |          | 0/? [00:00<?, ?it/s]"
      ]
     },
     "metadata": {},
     "output_type": "display_data"
    },
    {
     "data": {
      "application/vnd.jupyter.widget-view+json": {
       "model_id": "",
       "version_major": 2,
       "version_minor": 0
      },
      "text/plain": [
       "Validating: |          | 0/? [00:00<?, ?it/s]"
      ]
     },
     "metadata": {},
     "output_type": "display_data"
    },
    {
     "data": {
      "application/vnd.jupyter.widget-view+json": {
       "model_id": "",
       "version_major": 2,
       "version_minor": 0
      },
      "text/plain": [
       "Validating: |          | 0/? [00:00<?, ?it/s]"
      ]
     },
     "metadata": {},
     "output_type": "display_data"
    },
    {
     "data": {
      "application/vnd.jupyter.widget-view+json": {
       "model_id": "",
       "version_major": 2,
       "version_minor": 0
      },
      "text/plain": [
       "Validating: |          | 0/? [00:00<?, ?it/s]"
      ]
     },
     "metadata": {},
     "output_type": "display_data"
    },
    {
     "data": {
      "application/vnd.jupyter.widget-view+json": {
       "model_id": "",
       "version_major": 2,
       "version_minor": 0
      },
      "text/plain": [
       "Validating: |          | 0/? [00:00<?, ?it/s]"
      ]
     },
     "metadata": {},
     "output_type": "display_data"
    },
    {
     "data": {
      "application/vnd.jupyter.widget-view+json": {
       "model_id": "",
       "version_major": 2,
       "version_minor": 0
      },
      "text/plain": [
       "Validating: |          | 0/? [00:00<?, ?it/s]"
      ]
     },
     "metadata": {},
     "output_type": "display_data"
    },
    {
     "data": {
      "application/vnd.jupyter.widget-view+json": {
       "model_id": "",
       "version_major": 2,
       "version_minor": 0
      },
      "text/plain": [
       "Validating: |          | 0/? [00:00<?, ?it/s]"
      ]
     },
     "metadata": {},
     "output_type": "display_data"
    },
    {
     "data": {
      "application/vnd.jupyter.widget-view+json": {
       "model_id": "",
       "version_major": 2,
       "version_minor": 0
      },
      "text/plain": [
       "Validating: |          | 0/? [00:00<?, ?it/s]"
      ]
     },
     "metadata": {},
     "output_type": "display_data"
    },
    {
     "data": {
      "application/vnd.jupyter.widget-view+json": {
       "model_id": "",
       "version_major": 2,
       "version_minor": 0
      },
      "text/plain": [
       "Validating: |          | 0/? [00:00<?, ?it/s]"
      ]
     },
     "metadata": {},
     "output_type": "display_data"
    },
    {
     "data": {
      "application/vnd.jupyter.widget-view+json": {
       "model_id": "",
       "version_major": 2,
       "version_minor": 0
      },
      "text/plain": [
       "Validating: |          | 0/? [00:00<?, ?it/s]"
      ]
     },
     "metadata": {},
     "output_type": "display_data"
    },
    {
     "data": {
      "application/vnd.jupyter.widget-view+json": {
       "model_id": "",
       "version_major": 2,
       "version_minor": 0
      },
      "text/plain": [
       "Validating: |          | 0/? [00:00<?, ?it/s]"
      ]
     },
     "metadata": {},
     "output_type": "display_data"
    },
    {
     "data": {
      "application/vnd.jupyter.widget-view+json": {
       "model_id": "",
       "version_major": 2,
       "version_minor": 0
      },
      "text/plain": [
       "Validating: |          | 0/? [00:00<?, ?it/s]"
      ]
     },
     "metadata": {},
     "output_type": "display_data"
    },
    {
     "data": {
      "application/vnd.jupyter.widget-view+json": {
       "model_id": "",
       "version_major": 2,
       "version_minor": 0
      },
      "text/plain": [
       "Validating: |          | 0/? [00:00<?, ?it/s]"
      ]
     },
     "metadata": {},
     "output_type": "display_data"
    },
    {
     "data": {
      "application/vnd.jupyter.widget-view+json": {
       "model_id": "",
       "version_major": 2,
       "version_minor": 0
      },
      "text/plain": [
       "Validating: |          | 0/? [00:00<?, ?it/s]"
      ]
     },
     "metadata": {},
     "output_type": "display_data"
    },
    {
     "data": {
      "application/vnd.jupyter.widget-view+json": {
       "model_id": "",
       "version_major": 2,
       "version_minor": 0
      },
      "text/plain": [
       "Validating: |          | 0/? [00:00<?, ?it/s]"
      ]
     },
     "metadata": {},
     "output_type": "display_data"
    },
    {
     "data": {
      "application/vnd.jupyter.widget-view+json": {
       "model_id": "",
       "version_major": 2,
       "version_minor": 0
      },
      "text/plain": [
       "Validating: |          | 0/? [00:00<?, ?it/s]"
      ]
     },
     "metadata": {},
     "output_type": "display_data"
    },
    {
     "data": {
      "application/vnd.jupyter.widget-view+json": {
       "model_id": "",
       "version_major": 2,
       "version_minor": 0
      },
      "text/plain": [
       "Validating: |          | 0/? [00:00<?, ?it/s]"
      ]
     },
     "metadata": {},
     "output_type": "display_data"
    },
    {
     "data": {
      "application/vnd.jupyter.widget-view+json": {
       "model_id": "",
       "version_major": 2,
       "version_minor": 0
      },
      "text/plain": [
       "Validating: |          | 0/? [00:00<?, ?it/s]"
      ]
     },
     "metadata": {},
     "output_type": "display_data"
    },
    {
     "data": {
      "application/vnd.jupyter.widget-view+json": {
       "model_id": "",
       "version_major": 2,
       "version_minor": 0
      },
      "text/plain": [
       "Validating: |          | 0/? [00:00<?, ?it/s]"
      ]
     },
     "metadata": {},
     "output_type": "display_data"
    },
    {
     "data": {
      "application/vnd.jupyter.widget-view+json": {
       "model_id": "",
       "version_major": 2,
       "version_minor": 0
      },
      "text/plain": [
       "Validating: |          | 0/? [00:00<?, ?it/s]"
      ]
     },
     "metadata": {},
     "output_type": "display_data"
    },
    {
     "data": {
      "application/vnd.jupyter.widget-view+json": {
       "model_id": "",
       "version_major": 2,
       "version_minor": 0
      },
      "text/plain": [
       "Validating: |          | 0/? [00:00<?, ?it/s]"
      ]
     },
     "metadata": {},
     "output_type": "display_data"
    },
    {
     "data": {
      "application/vnd.jupyter.widget-view+json": {
       "model_id": "",
       "version_major": 2,
       "version_minor": 0
      },
      "text/plain": [
       "Validating: |          | 0/? [00:00<?, ?it/s]"
      ]
     },
     "metadata": {},
     "output_type": "display_data"
    },
    {
     "data": {
      "application/vnd.jupyter.widget-view+json": {
       "model_id": "",
       "version_major": 2,
       "version_minor": 0
      },
      "text/plain": [
       "Validating: |          | 0/? [00:00<?, ?it/s]"
      ]
     },
     "metadata": {},
     "output_type": "display_data"
    },
    {
     "data": {
      "application/vnd.jupyter.widget-view+json": {
       "model_id": "",
       "version_major": 2,
       "version_minor": 0
      },
      "text/plain": [
       "Validating: |          | 0/? [00:00<?, ?it/s]"
      ]
     },
     "metadata": {},
     "output_type": "display_data"
    },
    {
     "data": {
      "application/vnd.jupyter.widget-view+json": {
       "model_id": "",
       "version_major": 2,
       "version_minor": 0
      },
      "text/plain": [
       "Validating: |          | 0/? [00:00<?, ?it/s]"
      ]
     },
     "metadata": {},
     "output_type": "display_data"
    },
    {
     "data": {
      "application/vnd.jupyter.widget-view+json": {
       "model_id": "",
       "version_major": 2,
       "version_minor": 0
      },
      "text/plain": [
       "Validating: |          | 0/? [00:00<?, ?it/s]"
      ]
     },
     "metadata": {},
     "output_type": "display_data"
    },
    {
     "data": {
      "application/vnd.jupyter.widget-view+json": {
       "model_id": "",
       "version_major": 2,
       "version_minor": 0
      },
      "text/plain": [
       "Validating: |          | 0/? [00:00<?, ?it/s]"
      ]
     },
     "metadata": {},
     "output_type": "display_data"
    },
    {
     "data": {
      "application/vnd.jupyter.widget-view+json": {
       "model_id": "",
       "version_major": 2,
       "version_minor": 0
      },
      "text/plain": [
       "Validating: |          | 0/? [00:00<?, ?it/s]"
      ]
     },
     "metadata": {},
     "output_type": "display_data"
    },
    {
     "data": {
      "application/vnd.jupyter.widget-view+json": {
       "model_id": "",
       "version_major": 2,
       "version_minor": 0
      },
      "text/plain": [
       "Validating: |          | 0/? [00:00<?, ?it/s]"
      ]
     },
     "metadata": {},
     "output_type": "display_data"
    },
    {
     "data": {
      "application/vnd.jupyter.widget-view+json": {
       "model_id": "",
       "version_major": 2,
       "version_minor": 0
      },
      "text/plain": [
       "Validating: |          | 0/? [00:00<?, ?it/s]"
      ]
     },
     "metadata": {},
     "output_type": "display_data"
    },
    {
     "data": {
      "application/vnd.jupyter.widget-view+json": {
       "model_id": "",
       "version_major": 2,
       "version_minor": 0
      },
      "text/plain": [
       "Validating: |          | 0/? [00:00<?, ?it/s]"
      ]
     },
     "metadata": {},
     "output_type": "display_data"
    },
    {
     "data": {
      "application/vnd.jupyter.widget-view+json": {
       "model_id": "",
       "version_major": 2,
       "version_minor": 0
      },
      "text/plain": [
       "Validating: |          | 0/? [00:00<?, ?it/s]"
      ]
     },
     "metadata": {},
     "output_type": "display_data"
    },
    {
     "data": {
      "application/vnd.jupyter.widget-view+json": {
       "model_id": "",
       "version_major": 2,
       "version_minor": 0
      },
      "text/plain": [
       "Validating: |          | 0/? [00:00<?, ?it/s]"
      ]
     },
     "metadata": {},
     "output_type": "display_data"
    },
    {
     "data": {
      "application/vnd.jupyter.widget-view+json": {
       "model_id": "",
       "version_major": 2,
       "version_minor": 0
      },
      "text/plain": [
       "Validating: |          | 0/? [00:00<?, ?it/s]"
      ]
     },
     "metadata": {},
     "output_type": "display_data"
    },
    {
     "data": {
      "application/vnd.jupyter.widget-view+json": {
       "model_id": "",
       "version_major": 2,
       "version_minor": 0
      },
      "text/plain": [
       "Validating: |          | 0/? [00:00<?, ?it/s]"
      ]
     },
     "metadata": {},
     "output_type": "display_data"
    },
    {
     "data": {
      "application/vnd.jupyter.widget-view+json": {
       "model_id": "",
       "version_major": 2,
       "version_minor": 0
      },
      "text/plain": [
       "Validating: |          | 0/? [00:00<?, ?it/s]"
      ]
     },
     "metadata": {},
     "output_type": "display_data"
    },
    {
     "data": {
      "application/vnd.jupyter.widget-view+json": {
       "model_id": "",
       "version_major": 2,
       "version_minor": 0
      },
      "text/plain": [
       "Validating: |          | 0/? [00:00<?, ?it/s]"
      ]
     },
     "metadata": {},
     "output_type": "display_data"
    },
    {
     "data": {
      "application/vnd.jupyter.widget-view+json": {
       "model_id": "",
       "version_major": 2,
       "version_minor": 0
      },
      "text/plain": [
       "Validating: |          | 0/? [00:00<?, ?it/s]"
      ]
     },
     "metadata": {},
     "output_type": "display_data"
    },
    {
     "data": {
      "application/vnd.jupyter.widget-view+json": {
       "model_id": "",
       "version_major": 2,
       "version_minor": 0
      },
      "text/plain": [
       "Validating: |          | 0/? [00:00<?, ?it/s]"
      ]
     },
     "metadata": {},
     "output_type": "display_data"
    },
    {
     "data": {
      "application/vnd.jupyter.widget-view+json": {
       "model_id": "",
       "version_major": 2,
       "version_minor": 0
      },
      "text/plain": [
       "Validating: |          | 0/? [00:00<?, ?it/s]"
      ]
     },
     "metadata": {},
     "output_type": "display_data"
    },
    {
     "data": {
      "application/vnd.jupyter.widget-view+json": {
       "model_id": "",
       "version_major": 2,
       "version_minor": 0
      },
      "text/plain": [
       "Validating: |          | 0/? [00:00<?, ?it/s]"
      ]
     },
     "metadata": {},
     "output_type": "display_data"
    },
    {
     "data": {
      "application/vnd.jupyter.widget-view+json": {
       "model_id": "",
       "version_major": 2,
       "version_minor": 0
      },
      "text/plain": [
       "Validating: |          | 0/? [00:00<?, ?it/s]"
      ]
     },
     "metadata": {},
     "output_type": "display_data"
    },
    {
     "data": {
      "application/vnd.jupyter.widget-view+json": {
       "model_id": "",
       "version_major": 2,
       "version_minor": 0
      },
      "text/plain": [
       "Validating: |          | 0/? [00:00<?, ?it/s]"
      ]
     },
     "metadata": {},
     "output_type": "display_data"
    },
    {
     "data": {
      "application/vnd.jupyter.widget-view+json": {
       "model_id": "",
       "version_major": 2,
       "version_minor": 0
      },
      "text/plain": [
       "Validating: |          | 0/? [00:00<?, ?it/s]"
      ]
     },
     "metadata": {},
     "output_type": "display_data"
    },
    {
     "data": {
      "application/vnd.jupyter.widget-view+json": {
       "model_id": "",
       "version_major": 2,
       "version_minor": 0
      },
      "text/plain": [
       "Validating: |          | 0/? [00:00<?, ?it/s]"
      ]
     },
     "metadata": {},
     "output_type": "display_data"
    },
    {
     "data": {
      "application/vnd.jupyter.widget-view+json": {
       "model_id": "",
       "version_major": 2,
       "version_minor": 0
      },
      "text/plain": [
       "Validating: |          | 0/? [00:00<?, ?it/s]"
      ]
     },
     "metadata": {},
     "output_type": "display_data"
    },
    {
     "data": {
      "application/vnd.jupyter.widget-view+json": {
       "model_id": "",
       "version_major": 2,
       "version_minor": 0
      },
      "text/plain": [
       "Validating: |          | 0/? [00:00<?, ?it/s]"
      ]
     },
     "metadata": {},
     "output_type": "display_data"
    },
    {
     "data": {
      "application/vnd.jupyter.widget-view+json": {
       "model_id": "",
       "version_major": 2,
       "version_minor": 0
      },
      "text/plain": [
       "Validating: |          | 0/? [00:00<?, ?it/s]"
      ]
     },
     "metadata": {},
     "output_type": "display_data"
    },
    {
     "data": {
      "application/vnd.jupyter.widget-view+json": {
       "model_id": "",
       "version_major": 2,
       "version_minor": 0
      },
      "text/plain": [
       "Validating: |          | 0/? [00:00<?, ?it/s]"
      ]
     },
     "metadata": {},
     "output_type": "display_data"
    },
    {
     "data": {
      "application/vnd.jupyter.widget-view+json": {
       "model_id": "",
       "version_major": 2,
       "version_minor": 0
      },
      "text/plain": [
       "Validating: |          | 0/? [00:00<?, ?it/s]"
      ]
     },
     "metadata": {},
     "output_type": "display_data"
    },
    {
     "data": {
      "application/vnd.jupyter.widget-view+json": {
       "model_id": "",
       "version_major": 2,
       "version_minor": 0
      },
      "text/plain": [
       "Validating: |          | 0/? [00:00<?, ?it/s]"
      ]
     },
     "metadata": {},
     "output_type": "display_data"
    },
    {
     "data": {
      "application/vnd.jupyter.widget-view+json": {
       "model_id": "",
       "version_major": 2,
       "version_minor": 0
      },
      "text/plain": [
       "Validating: |          | 0/? [00:00<?, ?it/s]"
      ]
     },
     "metadata": {},
     "output_type": "display_data"
    },
    {
     "data": {
      "application/vnd.jupyter.widget-view+json": {
       "model_id": "",
       "version_major": 2,
       "version_minor": 0
      },
      "text/plain": [
       "Validating: |          | 0/? [00:00<?, ?it/s]"
      ]
     },
     "metadata": {},
     "output_type": "display_data"
    },
    {
     "data": {
      "application/vnd.jupyter.widget-view+json": {
       "model_id": "",
       "version_major": 2,
       "version_minor": 0
      },
      "text/plain": [
       "Validating: |          | 0/? [00:00<?, ?it/s]"
      ]
     },
     "metadata": {},
     "output_type": "display_data"
    },
    {
     "data": {
      "application/vnd.jupyter.widget-view+json": {
       "model_id": "",
       "version_major": 2,
       "version_minor": 0
      },
      "text/plain": [
       "Validating: |          | 0/? [00:00<?, ?it/s]"
      ]
     },
     "metadata": {},
     "output_type": "display_data"
    },
    {
     "data": {
      "application/vnd.jupyter.widget-view+json": {
       "model_id": "",
       "version_major": 2,
       "version_minor": 0
      },
      "text/plain": [
       "Validating: |          | 0/? [00:00<?, ?it/s]"
      ]
     },
     "metadata": {},
     "output_type": "display_data"
    },
    {
     "data": {
      "application/vnd.jupyter.widget-view+json": {
       "model_id": "",
       "version_major": 2,
       "version_minor": 0
      },
      "text/plain": [
       "Validating: |          | 0/? [00:00<?, ?it/s]"
      ]
     },
     "metadata": {},
     "output_type": "display_data"
    },
    {
     "data": {
      "application/vnd.jupyter.widget-view+json": {
       "model_id": "",
       "version_major": 2,
       "version_minor": 0
      },
      "text/plain": [
       "Validating: |          | 0/? [00:00<?, ?it/s]"
      ]
     },
     "metadata": {},
     "output_type": "display_data"
    },
    {
     "data": {
      "application/vnd.jupyter.widget-view+json": {
       "model_id": "",
       "version_major": 2,
       "version_minor": 0
      },
      "text/plain": [
       "Validating: |          | 0/? [00:00<?, ?it/s]"
      ]
     },
     "metadata": {},
     "output_type": "display_data"
    },
    {
     "data": {
      "application/vnd.jupyter.widget-view+json": {
       "model_id": "",
       "version_major": 2,
       "version_minor": 0
      },
      "text/plain": [
       "Validating: |          | 0/? [00:00<?, ?it/s]"
      ]
     },
     "metadata": {},
     "output_type": "display_data"
    },
    {
     "data": {
      "application/vnd.jupyter.widget-view+json": {
       "model_id": "",
       "version_major": 2,
       "version_minor": 0
      },
      "text/plain": [
       "Validating: |          | 0/? [00:00<?, ?it/s]"
      ]
     },
     "metadata": {},
     "output_type": "display_data"
    },
    {
     "data": {
      "application/vnd.jupyter.widget-view+json": {
       "model_id": "",
       "version_major": 2,
       "version_minor": 0
      },
      "text/plain": [
       "Validating: |          | 0/? [00:00<?, ?it/s]"
      ]
     },
     "metadata": {},
     "output_type": "display_data"
    },
    {
     "data": {
      "application/vnd.jupyter.widget-view+json": {
       "model_id": "",
       "version_major": 2,
       "version_minor": 0
      },
      "text/plain": [
       "Validating: |          | 0/? [00:00<?, ?it/s]"
      ]
     },
     "metadata": {},
     "output_type": "display_data"
    },
    {
     "data": {
      "application/vnd.jupyter.widget-view+json": {
       "model_id": "",
       "version_major": 2,
       "version_minor": 0
      },
      "text/plain": [
       "Validating: |          | 0/? [00:00<?, ?it/s]"
      ]
     },
     "metadata": {},
     "output_type": "display_data"
    },
    {
     "data": {
      "application/vnd.jupyter.widget-view+json": {
       "model_id": "",
       "version_major": 2,
       "version_minor": 0
      },
      "text/plain": [
       "Validating: |          | 0/? [00:00<?, ?it/s]"
      ]
     },
     "metadata": {},
     "output_type": "display_data"
    },
    {
     "data": {
      "application/vnd.jupyter.widget-view+json": {
       "model_id": "",
       "version_major": 2,
       "version_minor": 0
      },
      "text/plain": [
       "Validating: |          | 0/? [00:00<?, ?it/s]"
      ]
     },
     "metadata": {},
     "output_type": "display_data"
    },
    {
     "data": {
      "application/vnd.jupyter.widget-view+json": {
       "model_id": "",
       "version_major": 2,
       "version_minor": 0
      },
      "text/plain": [
       "Validating: |          | 0/? [00:00<?, ?it/s]"
      ]
     },
     "metadata": {},
     "output_type": "display_data"
    },
    {
     "data": {
      "application/vnd.jupyter.widget-view+json": {
       "model_id": "",
       "version_major": 2,
       "version_minor": 0
      },
      "text/plain": [
       "Validating: |          | 0/? [00:00<?, ?it/s]"
      ]
     },
     "metadata": {},
     "output_type": "display_data"
    },
    {
     "data": {
      "application/vnd.jupyter.widget-view+json": {
       "model_id": "",
       "version_major": 2,
       "version_minor": 0
      },
      "text/plain": [
       "Validating: |          | 0/? [00:00<?, ?it/s]"
      ]
     },
     "metadata": {},
     "output_type": "display_data"
    },
    {
     "data": {
      "application/vnd.jupyter.widget-view+json": {
       "model_id": "",
       "version_major": 2,
       "version_minor": 0
      },
      "text/plain": [
       "Validating: |          | 0/? [00:00<?, ?it/s]"
      ]
     },
     "metadata": {},
     "output_type": "display_data"
    },
    {
     "data": {
      "application/vnd.jupyter.widget-view+json": {
       "model_id": "",
       "version_major": 2,
       "version_minor": 0
      },
      "text/plain": [
       "Validating: |          | 0/? [00:00<?, ?it/s]"
      ]
     },
     "metadata": {},
     "output_type": "display_data"
    },
    {
     "data": {
      "application/vnd.jupyter.widget-view+json": {
       "model_id": "",
       "version_major": 2,
       "version_minor": 0
      },
      "text/plain": [
       "Validating: |          | 0/? [00:00<?, ?it/s]"
      ]
     },
     "metadata": {},
     "output_type": "display_data"
    },
    {
     "data": {
      "application/vnd.jupyter.widget-view+json": {
       "model_id": "",
       "version_major": 2,
       "version_minor": 0
      },
      "text/plain": [
       "Validating: |          | 0/? [00:00<?, ?it/s]"
      ]
     },
     "metadata": {},
     "output_type": "display_data"
    },
    {
     "data": {
      "application/vnd.jupyter.widget-view+json": {
       "model_id": "",
       "version_major": 2,
       "version_minor": 0
      },
      "text/plain": [
       "Validating: |          | 0/? [00:00<?, ?it/s]"
      ]
     },
     "metadata": {},
     "output_type": "display_data"
    },
    {
     "data": {
      "application/vnd.jupyter.widget-view+json": {
       "model_id": "",
       "version_major": 2,
       "version_minor": 0
      },
      "text/plain": [
       "Validating: |          | 0/? [00:00<?, ?it/s]"
      ]
     },
     "metadata": {},
     "output_type": "display_data"
    },
    {
     "data": {
      "application/vnd.jupyter.widget-view+json": {
       "model_id": "",
       "version_major": 2,
       "version_minor": 0
      },
      "text/plain": [
       "Validating: |          | 0/? [00:00<?, ?it/s]"
      ]
     },
     "metadata": {},
     "output_type": "display_data"
    },
    {
     "data": {
      "application/vnd.jupyter.widget-view+json": {
       "model_id": "",
       "version_major": 2,
       "version_minor": 0
      },
      "text/plain": [
       "Validating: |          | 0/? [00:00<?, ?it/s]"
      ]
     },
     "metadata": {},
     "output_type": "display_data"
    },
    {
     "data": {
      "application/vnd.jupyter.widget-view+json": {
       "model_id": "",
       "version_major": 2,
       "version_minor": 0
      },
      "text/plain": [
       "Validating: |          | 0/? [00:00<?, ?it/s]"
      ]
     },
     "metadata": {},
     "output_type": "display_data"
    },
    {
     "data": {
      "application/vnd.jupyter.widget-view+json": {
       "model_id": "",
       "version_major": 2,
       "version_minor": 0
      },
      "text/plain": [
       "Validating: |          | 0/? [00:00<?, ?it/s]"
      ]
     },
     "metadata": {},
     "output_type": "display_data"
    },
    {
     "data": {
      "application/vnd.jupyter.widget-view+json": {
       "model_id": "",
       "version_major": 2,
       "version_minor": 0
      },
      "text/plain": [
       "Validating: |          | 0/? [00:00<?, ?it/s]"
      ]
     },
     "metadata": {},
     "output_type": "display_data"
    },
    {
     "data": {
      "application/vnd.jupyter.widget-view+json": {
       "model_id": "",
       "version_major": 2,
       "version_minor": 0
      },
      "text/plain": [
       "Validating: |          | 0/? [00:00<?, ?it/s]"
      ]
     },
     "metadata": {},
     "output_type": "display_data"
    },
    {
     "data": {
      "application/vnd.jupyter.widget-view+json": {
       "model_id": "",
       "version_major": 2,
       "version_minor": 0
      },
      "text/plain": [
       "Validating: |          | 0/? [00:00<?, ?it/s]"
      ]
     },
     "metadata": {},
     "output_type": "display_data"
    },
    {
     "data": {
      "application/vnd.jupyter.widget-view+json": {
       "model_id": "",
       "version_major": 2,
       "version_minor": 0
      },
      "text/plain": [
       "Validating: |          | 0/? [00:00<?, ?it/s]"
      ]
     },
     "metadata": {},
     "output_type": "display_data"
    },
    {
     "data": {
      "application/vnd.jupyter.widget-view+json": {
       "model_id": "",
       "version_major": 2,
       "version_minor": 0
      },
      "text/plain": [
       "Validating: |          | 0/? [00:00<?, ?it/s]"
      ]
     },
     "metadata": {},
     "output_type": "display_data"
    },
    {
     "data": {
      "application/vnd.jupyter.widget-view+json": {
       "model_id": "",
       "version_major": 2,
       "version_minor": 0
      },
      "text/plain": [
       "Validating: |          | 0/? [00:00<?, ?it/s]"
      ]
     },
     "metadata": {},
     "output_type": "display_data"
    },
    {
     "data": {
      "application/vnd.jupyter.widget-view+json": {
       "model_id": "",
       "version_major": 2,
       "version_minor": 0
      },
      "text/plain": [
       "Validating: |          | 0/? [00:00<?, ?it/s]"
      ]
     },
     "metadata": {},
     "output_type": "display_data"
    },
    {
     "data": {
      "application/vnd.jupyter.widget-view+json": {
       "model_id": "",
       "version_major": 2,
       "version_minor": 0
      },
      "text/plain": [
       "Validating: |          | 0/? [00:00<?, ?it/s]"
      ]
     },
     "metadata": {},
     "output_type": "display_data"
    },
    {
     "data": {
      "application/vnd.jupyter.widget-view+json": {
       "model_id": "",
       "version_major": 2,
       "version_minor": 0
      },
      "text/plain": [
       "Validating: |          | 0/? [00:00<?, ?it/s]"
      ]
     },
     "metadata": {},
     "output_type": "display_data"
    },
    {
     "data": {
      "application/vnd.jupyter.widget-view+json": {
       "model_id": "",
       "version_major": 2,
       "version_minor": 0
      },
      "text/plain": [
       "Validating: |          | 0/? [00:00<?, ?it/s]"
      ]
     },
     "metadata": {},
     "output_type": "display_data"
    },
    {
     "data": {
      "application/vnd.jupyter.widget-view+json": {
       "model_id": "",
       "version_major": 2,
       "version_minor": 0
      },
      "text/plain": [
       "Validating: |          | 0/? [00:00<?, ?it/s]"
      ]
     },
     "metadata": {},
     "output_type": "display_data"
    },
    {
     "data": {
      "application/vnd.jupyter.widget-view+json": {
       "model_id": "",
       "version_major": 2,
       "version_minor": 0
      },
      "text/plain": [
       "Validating: |          | 0/? [00:00<?, ?it/s]"
      ]
     },
     "metadata": {},
     "output_type": "display_data"
    },
    {
     "data": {
      "application/vnd.jupyter.widget-view+json": {
       "model_id": "",
       "version_major": 2,
       "version_minor": 0
      },
      "text/plain": [
       "Validating: |          | 0/? [00:00<?, ?it/s]"
      ]
     },
     "metadata": {},
     "output_type": "display_data"
    },
    {
     "data": {
      "application/vnd.jupyter.widget-view+json": {
       "model_id": "",
       "version_major": 2,
       "version_minor": 0
      },
      "text/plain": [
       "Validating: |          | 0/? [00:00<?, ?it/s]"
      ]
     },
     "metadata": {},
     "output_type": "display_data"
    },
    {
     "data": {
      "application/vnd.jupyter.widget-view+json": {
       "model_id": "",
       "version_major": 2,
       "version_minor": 0
      },
      "text/plain": [
       "Validating: |          | 0/? [00:00<?, ?it/s]"
      ]
     },
     "metadata": {},
     "output_type": "display_data"
    },
    {
     "data": {
      "application/vnd.jupyter.widget-view+json": {
       "model_id": "",
       "version_major": 2,
       "version_minor": 0
      },
      "text/plain": [
       "Validating: |          | 0/? [00:00<?, ?it/s]"
      ]
     },
     "metadata": {},
     "output_type": "display_data"
    },
    {
     "data": {
      "application/vnd.jupyter.widget-view+json": {
       "model_id": "",
       "version_major": 2,
       "version_minor": 0
      },
      "text/plain": [
       "Validating: |          | 0/? [00:00<?, ?it/s]"
      ]
     },
     "metadata": {},
     "output_type": "display_data"
    },
    {
     "data": {
      "application/vnd.jupyter.widget-view+json": {
       "model_id": "",
       "version_major": 2,
       "version_minor": 0
      },
      "text/plain": [
       "Validating: |          | 0/? [00:00<?, ?it/s]"
      ]
     },
     "metadata": {},
     "output_type": "display_data"
    },
    {
     "data": {
      "application/vnd.jupyter.widget-view+json": {
       "model_id": "",
       "version_major": 2,
       "version_minor": 0
      },
      "text/plain": [
       "Validating: |          | 0/? [00:00<?, ?it/s]"
      ]
     },
     "metadata": {},
     "output_type": "display_data"
    },
    {
     "data": {
      "application/vnd.jupyter.widget-view+json": {
       "model_id": "",
       "version_major": 2,
       "version_minor": 0
      },
      "text/plain": [
       "Validating: |          | 0/? [00:00<?, ?it/s]"
      ]
     },
     "metadata": {},
     "output_type": "display_data"
    },
    {
     "data": {
      "application/vnd.jupyter.widget-view+json": {
       "model_id": "",
       "version_major": 2,
       "version_minor": 0
      },
      "text/plain": [
       "Validating: |          | 0/? [00:00<?, ?it/s]"
      ]
     },
     "metadata": {},
     "output_type": "display_data"
    },
    {
     "data": {
      "application/vnd.jupyter.widget-view+json": {
       "model_id": "",
       "version_major": 2,
       "version_minor": 0
      },
      "text/plain": [
       "Validating: |          | 0/? [00:00<?, ?it/s]"
      ]
     },
     "metadata": {},
     "output_type": "display_data"
    },
    {
     "data": {
      "application/vnd.jupyter.widget-view+json": {
       "model_id": "",
       "version_major": 2,
       "version_minor": 0
      },
      "text/plain": [
       "Validating: |          | 0/? [00:00<?, ?it/s]"
      ]
     },
     "metadata": {},
     "output_type": "display_data"
    },
    {
     "data": {
      "application/vnd.jupyter.widget-view+json": {
       "model_id": "",
       "version_major": 2,
       "version_minor": 0
      },
      "text/plain": [
       "Validating: |          | 0/? [00:00<?, ?it/s]"
      ]
     },
     "metadata": {},
     "output_type": "display_data"
    },
    {
     "data": {
      "application/vnd.jupyter.widget-view+json": {
       "model_id": "",
       "version_major": 2,
       "version_minor": 0
      },
      "text/plain": [
       "Validating: |          | 0/? [00:00<?, ?it/s]"
      ]
     },
     "metadata": {},
     "output_type": "display_data"
    },
    {
     "data": {
      "application/vnd.jupyter.widget-view+json": {
       "model_id": "",
       "version_major": 2,
       "version_minor": 0
      },
      "text/plain": [
       "Validating: |          | 0/? [00:00<?, ?it/s]"
      ]
     },
     "metadata": {},
     "output_type": "display_data"
    },
    {
     "data": {
      "application/vnd.jupyter.widget-view+json": {
       "model_id": "",
       "version_major": 2,
       "version_minor": 0
      },
      "text/plain": [
       "Validating: |          | 0/? [00:00<?, ?it/s]"
      ]
     },
     "metadata": {},
     "output_type": "display_data"
    },
    {
     "data": {
      "application/vnd.jupyter.widget-view+json": {
       "model_id": "",
       "version_major": 2,
       "version_minor": 0
      },
      "text/plain": [
       "Validating: |          | 0/? [00:00<?, ?it/s]"
      ]
     },
     "metadata": {},
     "output_type": "display_data"
    },
    {
     "data": {
      "application/vnd.jupyter.widget-view+json": {
       "model_id": "",
       "version_major": 2,
       "version_minor": 0
      },
      "text/plain": [
       "Validating: |          | 0/? [00:00<?, ?it/s]"
      ]
     },
     "metadata": {},
     "output_type": "display_data"
    },
    {
     "data": {
      "application/vnd.jupyter.widget-view+json": {
       "model_id": "",
       "version_major": 2,
       "version_minor": 0
      },
      "text/plain": [
       "Validating: |          | 0/? [00:00<?, ?it/s]"
      ]
     },
     "metadata": {},
     "output_type": "display_data"
    },
    {
     "data": {
      "application/vnd.jupyter.widget-view+json": {
       "model_id": "",
       "version_major": 2,
       "version_minor": 0
      },
      "text/plain": [
       "Validating: |          | 0/? [00:00<?, ?it/s]"
      ]
     },
     "metadata": {},
     "output_type": "display_data"
    },
    {
     "data": {
      "application/vnd.jupyter.widget-view+json": {
       "model_id": "",
       "version_major": 2,
       "version_minor": 0
      },
      "text/plain": [
       "Validating: |          | 0/? [00:00<?, ?it/s]"
      ]
     },
     "metadata": {},
     "output_type": "display_data"
    },
    {
     "data": {
      "application/vnd.jupyter.widget-view+json": {
       "model_id": "",
       "version_major": 2,
       "version_minor": 0
      },
      "text/plain": [
       "Validating: |          | 0/? [00:00<?, ?it/s]"
      ]
     },
     "metadata": {},
     "output_type": "display_data"
    },
    {
     "data": {
      "application/vnd.jupyter.widget-view+json": {
       "model_id": "",
       "version_major": 2,
       "version_minor": 0
      },
      "text/plain": [
       "Validating: |          | 0/? [00:00<?, ?it/s]"
      ]
     },
     "metadata": {},
     "output_type": "display_data"
    },
    {
     "data": {
      "application/vnd.jupyter.widget-view+json": {
       "model_id": "",
       "version_major": 2,
       "version_minor": 0
      },
      "text/plain": [
       "Validating: |          | 0/? [00:00<?, ?it/s]"
      ]
     },
     "metadata": {},
     "output_type": "display_data"
    },
    {
     "data": {
      "application/vnd.jupyter.widget-view+json": {
       "model_id": "",
       "version_major": 2,
       "version_minor": 0
      },
      "text/plain": [
       "Validating: |          | 0/? [00:00<?, ?it/s]"
      ]
     },
     "metadata": {},
     "output_type": "display_data"
    },
    {
     "data": {
      "application/vnd.jupyter.widget-view+json": {
       "model_id": "",
       "version_major": 2,
       "version_minor": 0
      },
      "text/plain": [
       "Validating: |          | 0/? [00:00<?, ?it/s]"
      ]
     },
     "metadata": {},
     "output_type": "display_data"
    },
    {
     "data": {
      "application/vnd.jupyter.widget-view+json": {
       "model_id": "",
       "version_major": 2,
       "version_minor": 0
      },
      "text/plain": [
       "Validating: |          | 0/? [00:00<?, ?it/s]"
      ]
     },
     "metadata": {},
     "output_type": "display_data"
    },
    {
     "data": {
      "application/vnd.jupyter.widget-view+json": {
       "model_id": "",
       "version_major": 2,
       "version_minor": 0
      },
      "text/plain": [
       "Validating: |          | 0/? [00:00<?, ?it/s]"
      ]
     },
     "metadata": {},
     "output_type": "display_data"
    },
    {
     "data": {
      "application/vnd.jupyter.widget-view+json": {
       "model_id": "",
       "version_major": 2,
       "version_minor": 0
      },
      "text/plain": [
       "Validating: |          | 0/? [00:00<?, ?it/s]"
      ]
     },
     "metadata": {},
     "output_type": "display_data"
    },
    {
     "data": {
      "application/vnd.jupyter.widget-view+json": {
       "model_id": "",
       "version_major": 2,
       "version_minor": 0
      },
      "text/plain": [
       "Validating: |          | 0/? [00:00<?, ?it/s]"
      ]
     },
     "metadata": {},
     "output_type": "display_data"
    },
    {
     "data": {
      "application/vnd.jupyter.widget-view+json": {
       "model_id": "",
       "version_major": 2,
       "version_minor": 0
      },
      "text/plain": [
       "Validating: |          | 0/? [00:00<?, ?it/s]"
      ]
     },
     "metadata": {},
     "output_type": "display_data"
    },
    {
     "data": {
      "application/vnd.jupyter.widget-view+json": {
       "model_id": "",
       "version_major": 2,
       "version_minor": 0
      },
      "text/plain": [
       "Validating: |          | 0/? [00:00<?, ?it/s]"
      ]
     },
     "metadata": {},
     "output_type": "display_data"
    },
    {
     "data": {
      "application/vnd.jupyter.widget-view+json": {
       "model_id": "",
       "version_major": 2,
       "version_minor": 0
      },
      "text/plain": [
       "Validating: |          | 0/? [00:00<?, ?it/s]"
      ]
     },
     "metadata": {},
     "output_type": "display_data"
    },
    {
     "data": {
      "application/vnd.jupyter.widget-view+json": {
       "model_id": "",
       "version_major": 2,
       "version_minor": 0
      },
      "text/plain": [
       "Validating: |          | 0/? [00:00<?, ?it/s]"
      ]
     },
     "metadata": {},
     "output_type": "display_data"
    },
    {
     "data": {
      "application/vnd.jupyter.widget-view+json": {
       "model_id": "",
       "version_major": 2,
       "version_minor": 0
      },
      "text/plain": [
       "Validating: |          | 0/? [00:00<?, ?it/s]"
      ]
     },
     "metadata": {},
     "output_type": "display_data"
    },
    {
     "data": {
      "application/vnd.jupyter.widget-view+json": {
       "model_id": "",
       "version_major": 2,
       "version_minor": 0
      },
      "text/plain": [
       "Validating: |          | 0/? [00:00<?, ?it/s]"
      ]
     },
     "metadata": {},
     "output_type": "display_data"
    },
    {
     "data": {
      "application/vnd.jupyter.widget-view+json": {
       "model_id": "",
       "version_major": 2,
       "version_minor": 0
      },
      "text/plain": [
       "Validating: |          | 0/? [00:00<?, ?it/s]"
      ]
     },
     "metadata": {},
     "output_type": "display_data"
    },
    {
     "data": {
      "application/vnd.jupyter.widget-view+json": {
       "model_id": "",
       "version_major": 2,
       "version_minor": 0
      },
      "text/plain": [
       "Validating: |          | 0/? [00:00<?, ?it/s]"
      ]
     },
     "metadata": {},
     "output_type": "display_data"
    },
    {
     "data": {
      "application/vnd.jupyter.widget-view+json": {
       "model_id": "",
       "version_major": 2,
       "version_minor": 0
      },
      "text/plain": [
       "Validating: |          | 0/? [00:00<?, ?it/s]"
      ]
     },
     "metadata": {},
     "output_type": "display_data"
    },
    {
     "data": {
      "application/vnd.jupyter.widget-view+json": {
       "model_id": "",
       "version_major": 2,
       "version_minor": 0
      },
      "text/plain": [
       "Validating: |          | 0/? [00:00<?, ?it/s]"
      ]
     },
     "metadata": {},
     "output_type": "display_data"
    },
    {
     "data": {
      "application/vnd.jupyter.widget-view+json": {
       "model_id": "",
       "version_major": 2,
       "version_minor": 0
      },
      "text/plain": [
       "Validating: |          | 0/? [00:00<?, ?it/s]"
      ]
     },
     "metadata": {},
     "output_type": "display_data"
    },
    {
     "data": {
      "application/vnd.jupyter.widget-view+json": {
       "model_id": "",
       "version_major": 2,
       "version_minor": 0
      },
      "text/plain": [
       "Validating: |          | 0/? [00:00<?, ?it/s]"
      ]
     },
     "metadata": {},
     "output_type": "display_data"
    },
    {
     "data": {
      "application/vnd.jupyter.widget-view+json": {
       "model_id": "",
       "version_major": 2,
       "version_minor": 0
      },
      "text/plain": [
       "Validating: |          | 0/? [00:00<?, ?it/s]"
      ]
     },
     "metadata": {},
     "output_type": "display_data"
    },
    {
     "data": {
      "application/vnd.jupyter.widget-view+json": {
       "model_id": "",
       "version_major": 2,
       "version_minor": 0
      },
      "text/plain": [
       "Validating: |          | 0/? [00:00<?, ?it/s]"
      ]
     },
     "metadata": {},
     "output_type": "display_data"
    },
    {
     "data": {
      "application/vnd.jupyter.widget-view+json": {
       "model_id": "",
       "version_major": 2,
       "version_minor": 0
      },
      "text/plain": [
       "Validating: |          | 0/? [00:00<?, ?it/s]"
      ]
     },
     "metadata": {},
     "output_type": "display_data"
    },
    {
     "data": {
      "application/vnd.jupyter.widget-view+json": {
       "model_id": "",
       "version_major": 2,
       "version_minor": 0
      },
      "text/plain": [
       "Validating: |          | 0/? [00:00<?, ?it/s]"
      ]
     },
     "metadata": {},
     "output_type": "display_data"
    },
    {
     "data": {
      "application/vnd.jupyter.widget-view+json": {
       "model_id": "",
       "version_major": 2,
       "version_minor": 0
      },
      "text/plain": [
       "Validating: |          | 0/? [00:00<?, ?it/s]"
      ]
     },
     "metadata": {},
     "output_type": "display_data"
    },
    {
     "data": {
      "application/vnd.jupyter.widget-view+json": {
       "model_id": "",
       "version_major": 2,
       "version_minor": 0
      },
      "text/plain": [
       "Validating: |          | 0/? [00:00<?, ?it/s]"
      ]
     },
     "metadata": {},
     "output_type": "display_data"
    },
    {
     "data": {
      "application/vnd.jupyter.widget-view+json": {
       "model_id": "",
       "version_major": 2,
       "version_minor": 0
      },
      "text/plain": [
       "Validating: |          | 0/? [00:00<?, ?it/s]"
      ]
     },
     "metadata": {},
     "output_type": "display_data"
    },
    {
     "data": {
      "application/vnd.jupyter.widget-view+json": {
       "model_id": "",
       "version_major": 2,
       "version_minor": 0
      },
      "text/plain": [
       "Validating: |          | 0/? [00:00<?, ?it/s]"
      ]
     },
     "metadata": {},
     "output_type": "display_data"
    },
    {
     "data": {
      "application/vnd.jupyter.widget-view+json": {
       "model_id": "",
       "version_major": 2,
       "version_minor": 0
      },
      "text/plain": [
       "Validating: |          | 0/? [00:00<?, ?it/s]"
      ]
     },
     "metadata": {},
     "output_type": "display_data"
    },
    {
     "data": {
      "application/vnd.jupyter.widget-view+json": {
       "model_id": "",
       "version_major": 2,
       "version_minor": 0
      },
      "text/plain": [
       "Validating: |          | 0/? [00:00<?, ?it/s]"
      ]
     },
     "metadata": {},
     "output_type": "display_data"
    },
    {
     "data": {
      "application/vnd.jupyter.widget-view+json": {
       "model_id": "",
       "version_major": 2,
       "version_minor": 0
      },
      "text/plain": [
       "Validating: |          | 0/? [00:00<?, ?it/s]"
      ]
     },
     "metadata": {},
     "output_type": "display_data"
    },
    {
     "data": {
      "application/vnd.jupyter.widget-view+json": {
       "model_id": "",
       "version_major": 2,
       "version_minor": 0
      },
      "text/plain": [
       "Validating: |          | 0/? [00:00<?, ?it/s]"
      ]
     },
     "metadata": {},
     "output_type": "display_data"
    },
    {
     "data": {
      "application/vnd.jupyter.widget-view+json": {
       "model_id": "",
       "version_major": 2,
       "version_minor": 0
      },
      "text/plain": [
       "Validating: |          | 0/? [00:00<?, ?it/s]"
      ]
     },
     "metadata": {},
     "output_type": "display_data"
    },
    {
     "data": {
      "application/vnd.jupyter.widget-view+json": {
       "model_id": "",
       "version_major": 2,
       "version_minor": 0
      },
      "text/plain": [
       "Validating: |          | 0/? [00:00<?, ?it/s]"
      ]
     },
     "metadata": {},
     "output_type": "display_data"
    },
    {
     "data": {
      "application/vnd.jupyter.widget-view+json": {
       "model_id": "",
       "version_major": 2,
       "version_minor": 0
      },
      "text/plain": [
       "Validating: |          | 0/? [00:00<?, ?it/s]"
      ]
     },
     "metadata": {},
     "output_type": "display_data"
    },
    {
     "data": {
      "application/vnd.jupyter.widget-view+json": {
       "model_id": "",
       "version_major": 2,
       "version_minor": 0
      },
      "text/plain": [
       "Validating: |          | 0/? [00:00<?, ?it/s]"
      ]
     },
     "metadata": {},
     "output_type": "display_data"
    },
    {
     "data": {
      "application/vnd.jupyter.widget-view+json": {
       "model_id": "",
       "version_major": 2,
       "version_minor": 0
      },
      "text/plain": [
       "Validating: |          | 0/? [00:00<?, ?it/s]"
      ]
     },
     "metadata": {},
     "output_type": "display_data"
    },
    {
     "data": {
      "application/vnd.jupyter.widget-view+json": {
       "model_id": "",
       "version_major": 2,
       "version_minor": 0
      },
      "text/plain": [
       "Validating: |          | 0/? [00:00<?, ?it/s]"
      ]
     },
     "metadata": {},
     "output_type": "display_data"
    },
    {
     "data": {
      "application/vnd.jupyter.widget-view+json": {
       "model_id": "",
       "version_major": 2,
       "version_minor": 0
      },
      "text/plain": [
       "Validating: |          | 0/? [00:00<?, ?it/s]"
      ]
     },
     "metadata": {},
     "output_type": "display_data"
    },
    {
     "data": {
      "application/vnd.jupyter.widget-view+json": {
       "model_id": "",
       "version_major": 2,
       "version_minor": 0
      },
      "text/plain": [
       "Validating: |          | 0/? [00:00<?, ?it/s]"
      ]
     },
     "metadata": {},
     "output_type": "display_data"
    },
    {
     "data": {
      "application/vnd.jupyter.widget-view+json": {
       "model_id": "",
       "version_major": 2,
       "version_minor": 0
      },
      "text/plain": [
       "Validating: |          | 0/? [00:00<?, ?it/s]"
      ]
     },
     "metadata": {},
     "output_type": "display_data"
    },
    {
     "data": {
      "application/vnd.jupyter.widget-view+json": {
       "model_id": "",
       "version_major": 2,
       "version_minor": 0
      },
      "text/plain": [
       "Validating: |          | 0/? [00:00<?, ?it/s]"
      ]
     },
     "metadata": {},
     "output_type": "display_data"
    },
    {
     "data": {
      "application/vnd.jupyter.widget-view+json": {
       "model_id": "",
       "version_major": 2,
       "version_minor": 0
      },
      "text/plain": [
       "Validating: |          | 0/? [00:00<?, ?it/s]"
      ]
     },
     "metadata": {},
     "output_type": "display_data"
    },
    {
     "name": "stderr",
     "output_type": "stream",
     "text": [
      "Saving latest checkpoint...\n"
     ]
    },
    {
     "data": {
      "text/plain": [
       "1"
      ]
     },
     "execution_count": 15,
     "metadata": {},
     "output_type": "execute_result"
    }
   ],
   "source": [
    "# initialise the LightningModule\n",
    "model = PZSegm(dropout=0.3)\n",
    "\n",
    "# set up loggers and checkpoints\n",
    "tb_logger = pytorch_lightning.loggers.TensorBoardLogger(\n",
    "    save_dir=os.path.join(MODEL_PATH,'logs')\n",
    ")\n",
    "\n",
    "lr_monitor = pytorch_lightning.callbacks.LearningRateMonitor(logging_interval='epoch')\n",
    "\n",
    "checkpoint_callback = pytorch_lightning.callbacks.model_checkpoint.ModelCheckpoint(\n",
    "    dirpath=MODEL_PATH,\n",
    "    filename=\"{epoch:04d}-{val_loss:.2f}\",\n",
    "    monitor='val_loss',\n",
    "    save_last=True,\n",
    "    save_top_k=2,\n",
    "    mode='min'\n",
    ")\n",
    "\n",
    "# check for last checkpoint\n",
    "resume_checkpoint = None\n",
    "if os.path.exists(os.path.join(MODEL_PATH,'last.ckpt')):\n",
    "    resume_checkpoint = os.path.join(MODEL_PATH,'last.ckpt')\n",
    "\n",
    "# initialise Lightning's trainer.\n",
    "trainer = pytorch_lightning.Trainer(\n",
    "    gpus=[0],\n",
    "    max_epochs=3000,\n",
    "    logger=tb_logger,\n",
    "    callbacks=[lr_monitor,checkpoint_callback],\n",
    "    num_sanity_val_steps=1,\n",
    "    check_val_every_n_epoch=10,\n",
    "    resume_from_checkpoint=resume_checkpoint\n",
    ")\n",
    "\n",
    "# train\n",
    "trainer.fit(model, train_dataloader=train_loader, val_dataloaders=test_loader)\n",
    "# IPython.display.clear_output()"
   ]
  },
  {
   "cell_type": "markdown",
   "metadata": {},
   "source": [
    "## Perform Inference on the Data\n"
   ]
  },
  {
   "cell_type": "code",
   "execution_count": 25,
   "metadata": {},
   "outputs": [
    {
     "name": "stdout",
     "output_type": "stream",
     "text": [
      "Using experiment directory: ../resources/model/baseline_ce/results\n"
     ]
    }
   ],
   "source": [
    "RESULTS_PATH = os.path.join(EXP_PATH,'results')\n",
    "\n",
    "if not os.path.exists(RESULTS_PATH):\n",
    "    print('Creating experiment directory: {}'.format(RESULTS_PATH))\n",
    "    os.mkdir(RESULTS_PATH)\n",
    "\n",
    "print('Using experiment directory: {}'.format(RESULTS_PATH))"
   ]
  },
  {
   "cell_type": "code",
   "execution_count": 16,
   "metadata": {},
   "outputs": [
    {
     "name": "stdout",
     "output_type": "stream",
     "text": [
      "Loading saved model from: ../resources/model/baseline_ce/saved_model/last.ckpt\n"
     ]
    }
   ],
   "source": [
    "# Load \n",
    "model_path = os.path.join(MODEL_PATH,'last.ckpt')\n",
    "print('Loading saved model from: {}'.format(model_path))\n",
    "\n",
    "model = PZSegm.load_from_checkpoint(model_path)"
   ]
  },
  {
   "cell_type": "code",
   "execution_count": 19,
   "metadata": {},
   "outputs": [],
   "source": [
    "from monai.inferers import sliding_window_inference\n",
    "\n",
    "# Import utils\n",
    "import segmplot\n",
    "import visualization as viz\n",
    "import time\n",
    "\n",
    "def run_inference_and_evaluate(model, batch, roi_size, plot_images=False, save_output=False, sw_batch_size=4):\n",
    "    \"\"\"Inference and evaluation function for PZ segmentation.\n",
    "    \n",
    "    \"\"\"\n",
    "    \n",
    "    # Use MONAI one_hot transform\n",
    "    one_hot_transform = monai.transforms.AsDiscrete(to_onehot=True, n_classes=3)\n",
    "    \n",
    "    with torch.no_grad():        \n",
    "        \n",
    "        x = test_data['IMAGE'].to(device)\n",
    "        y = test_data['SEGM'].cpu()\n",
    "        \n",
    "        start_time = time.time()\n",
    "        y_pred = sliding_window_inference(x, roi_size, sw_batch_size, model)\n",
    "        stop_time = time.time()\n",
    "        \n",
    "        inference_time = stop_time-start_time\n",
    "        \n",
    "        argmax = torch.argmax(y_pred, dim=1, keepdim=True)\n",
    "        argmax = argmax.detach().cpu()\n",
    "        \n",
    "        y_onehot = torch.stack([one_hot_transform(i) for i in decollate_batch(y)])\n",
    "        y_pred_onehot = torch.stack([one_hot_transform(i) for i in decollate_batch(argmax)])        \n",
    "\n",
    "        # Evaluate segmentation metrics\n",
    "        eval_list = list()\n",
    "        zonal_bounds, zonal_ids = viz.compute_pirads_zone_bounds(y[0,0,...].numpy())\n",
    "        for b, zid in zip(zonal_bounds, zonal_ids):\n",
    "                    \n",
    "            zone_pred_onehot = y_pred_onehot[...,slice(b[0], b[1])]\n",
    "            zone_onehot = y_onehot[...,slice(b[0], b[1])]\n",
    "            \n",
    "            dice_values, hd_values, mad_values = viz.compute_evaluation_metrics(\n",
    "                y_pred=zone_pred_onehot, y=zone_onehot\n",
    "            )\n",
    "        \n",
    "            df_metrics = pd.DataFrame()\n",
    "            df_metrics['ROI'] = ['PZ','CG']\n",
    "            df_metrics['ROI_VALUE'] = np.arange(len(dice_values))+1\n",
    "            df_metrics['DICE'] = dice_values\n",
    "            df_metrics['HD95'] = hd_values\n",
    "            df_metrics['MAD'] = mad_values\n",
    "            df_metrics['ZONAL_ID'] = zid\n",
    "            eval_list.append(df_metrics)\n",
    "\n",
    "        # Concat all the zonal segm results\n",
    "        df_eval = pd.concat(eval_list)\n",
    "        # Global eval values\n",
    "        df_eval['INFERENCE_TIME'] = inference_time\n",
    "        df_eval['DATASET_ID'] = test_data['DATASET_ID'][0]\n",
    "        df_eval['SUBJECT_ID'] = test_data['SUBJECT_ID'][0].cpu().numpy()\n",
    "        df_eval['IMAGE'] = test_data['IMAGE_meta_dict']['filename_or_obj'][0]\n",
    "        df_eval['SEGM'] = test_data['SEGM_meta_dict']['filename_or_obj'][0]\n",
    "        \n",
    "        \n",
    "        if plot_images:\n",
    "            # Ensure that image is CxHxWxD\n",
    "            image = x[0,...].cpu().numpy()\n",
    "            segm = y[0,...].cpu().numpy()\n",
    "            pred = y_pred_onehot[0,...].cpu().numpy()\n",
    "            \n",
    "            # axial plot\n",
    "            plot_axial = segmplot.PlotSegmentation(\n",
    "                num_slices=3, \n",
    "                slice_spacing=1, \n",
    "                slice_axis=3, \n",
    "            )\n",
    "            plt.figure('segm', (20,5))\n",
    "            plot_axial(image, [pred],  cmap_name=['tab10'])\n",
    "            plt.show()\n",
    "            \n",
    "            plt.figure('segm', (20,5))\n",
    "            plot_axial(segm, [pred], cmap_name=['tab10'])\n",
    "            plt.show()\n",
    "            \n",
    "            # sagittal plot\n",
    "            plot_sagittal = segmplot.PlotSegmentation(\n",
    "                num_slices=3, \n",
    "                slice_spacing=6, \n",
    "                slice_axis=1, \n",
    "            )\n",
    "            \n",
    "            plt.figure('segm', (20,5))\n",
    "            plot_sagittal(segm, [pred], cmap_name=['tab10'])\n",
    "            plt.show()\n",
    "\n",
    "        \n",
    "        # Write data out\n",
    "        if save_output:\n",
    "            test_data['PRED'] = argmax\n",
    "            # save inference transforms\n",
    "            save_transforms = Compose([\n",
    "                monai.transforms.AsDiscreted(keys=\"PRED\", to_onehot=True, n_classes=3),\n",
    "                monai.transforms.Invertd(\n",
    "                    keys=\"PRED\",\n",
    "                    transform=test_transforms,\n",
    "                    orig_keys=\"IMAGE\",\n",
    "                    orig_meta_keys=\"IMAGE_meta_dict\",\n",
    "                    meta_keys=\"PRED_meta_dict\",\n",
    "                    meta_key_postfix=\"meta_dict\",\n",
    "                    nearest_interp=False,\n",
    "                    to_tensor=True,\n",
    "                ),\n",
    "                monai.transforms.AsDiscreted(keys=\"PRED\", argmax=True),\n",
    "                monai.transforms.SaveImaged(keys=\"PRED\", meta_keys=\"PRED_meta_dict\", \n",
    "                                            output_dir=RESULTS_PATH, output_postfix='infer_seg', \n",
    "                                            resample=False),])\n",
    "            \n",
    "            d = [save_transforms(i) for i in decollate_batch(test_data)]\n",
    "            \n",
    "        return df_eval"
   ]
  },
  {
   "cell_type": "code",
   "execution_count": 24,
   "metadata": {
    "scrolled": false
   },
   "outputs": [
    {
     "name": "stdout",
     "output_type": "stream",
     "text": [
      "Evaluating Subject 1...\n"
     ]
    },
    {
     "name": "stderr",
     "output_type": "stream",
     "text": [
      "/home1/jz729/anaconda3/envs/monai_pirads/lib/python3.8/site-packages/monai/metrics/utils.py:195: UserWarning: ground truth is all 0, this may result in nan/inf distance.\n",
      "  warnings.warn(\"ground truth is all 0, this may result in nan/inf distance.\")\n",
      "/home1/jz729/anaconda3/envs/monai_pirads/lib/python3.8/site-packages/numpy/lib/function_base.py:3968: RuntimeWarning: invalid value encountered in multiply\n",
      "  x2 = take(ap, indices_above, axis=axis) * weights_above\n",
      "/home1/jz729/anaconda3/envs/monai_pirads/lib/python3.8/site-packages/monai/metrics/utils.py:199: UserWarning: prediction is all 0, this may result in nan/inf distance.\n",
      "  warnings.warn(\"prediction is all 0, this may result in nan/inf distance.\")\n"
     ]
    },
    {
     "name": "stdout",
     "output_type": "stream",
     "text": [
      "Evaluating Subject 2...\n",
      "Evaluating Subject 3...\n",
      "Evaluating Subject 4...\n",
      "Evaluating Subject 5...\n",
      "Evaluating Subject 6...\n",
      "Evaluating Subject 7...\n",
      "Evaluating Subject 8...\n",
      "Evaluating Subject 9...\n",
      "Evaluating Subject 10...\n",
      "Evaluating Subject 11...\n",
      "Evaluating Subject 12...\n",
      "Evaluating Subject 13...\n",
      "Evaluating Subject 14...\n",
      "Evaluating Subject 15...\n",
      "Evaluating Subject 16...\n",
      "Evaluating Subject 17...\n",
      "Evaluating Subject 18...\n",
      "Evaluating Subject 19...\n",
      "Evaluating Subject 20...\n",
      "Evaluating Subject 21...\n",
      "Evaluating Subject 22...\n",
      "Evaluating Subject 23...\n",
      "Evaluating Subject 24...\n",
      "Evaluating Subject 25...\n",
      "Evaluating Subject 26...\n",
      "Evaluating Subject 27...\n",
      "Evaluating Subject 28...\n",
      "Evaluating Subject 29...\n",
      "Evaluating Subject 30...\n"
     ]
    }
   ],
   "source": [
    "roi_size = (128, 128, 64)\n",
    "\n",
    "model.eval()\n",
    "device = torch.device(\"cuda:0\")\n",
    "model.to(device)\n",
    "\n",
    "sub_idx = 0\n",
    "\n",
    "evaluation_results = list()\n",
    "for i, test_data in enumerate(test_loader):\n",
    "#     if i != sub_idx:\n",
    "#         continue\n",
    "        \n",
    "    print('Evaluating Subject {}...'.format(i+1))\n",
    "    df_eval = run_inference_and_evaluate(\n",
    "        model=model, \n",
    "        batch=test_data, \n",
    "        roi_size=roi_size, \n",
    "        plot_images=False, \n",
    "        save_output=False\n",
    "    )\n",
    "    evaluation_results.append(df_eval)\n",
    "    \n",
    "df_results = pd.concat(evaluation_results)\n",
    "\n",
    "CSV_NAME = EXP_NAME\n",
    "print('Using CSV_NAME name: {}'.format(CSV_NAME))\n",
    "df_results['EXPERIMENT_ID'] = CSV_NAME"
   ]
  },
  {
   "cell_type": "code",
   "execution_count": 22,
   "metadata": {},
   "outputs": [
    {
     "name": "stdout",
     "output_type": "stream",
     "text": [
      "../resources/model/baseline_ce/results/Baseline_CE_results.csv\n"
     ]
    }
   ],
   "source": [
    "df_results.to_csv(os.path.join(RESULTS_PATH,'{}_results.csv'.format(CSV_NAME)), index=False)\n",
    "print(os.path.join(RESULTS_PATH,'{}_results.csv'.format(CSV_NAME)))"
   ]
  },
  {
   "cell_type": "code",
   "execution_count": 20,
   "metadata": {},
   "outputs": [
    {
     "data": {
      "image/png": "[encoded data removed]",
      "text/plain": [
       "<Figure size 781x360 with 2 Axes>"
      ]
     },
     "metadata": {
      "needs_background": "light"
     },
     "output_type": "display_data"
    }
   ],
   "source": [
    "import seaborn as sns\n",
    "ax = sns.catplot(\n",
    "    data=df_results,\n",
    "    x=\"EXPERIMENT_ID\", \n",
    "    y=\"DICE\", \n",
    "    hue=\"ZONAL_ID\", \n",
    "    col=\"ROI\", \n",
    "    kind='box'\n",
    ")"
   ]
  }
 ],
 "metadata": {
  "kernelspec": {
   "display_name": "monai_pirads",
   "language": "python",
   "name": "monai_pirads"
  },
  "language_info": {
   "codemirror_mode": {
    "name": "ipython",
    "version": 3
   },
   "file_extension": ".py",
   "mimetype": "text/x-python",
   "name": "python",
   "nbconvert_exporter": "python",
   "pygments_lexer": "ipython3",
   "version": "3.8.5"
  }
 },
 "nbformat": 4,
 "nbformat_minor": 4
}
